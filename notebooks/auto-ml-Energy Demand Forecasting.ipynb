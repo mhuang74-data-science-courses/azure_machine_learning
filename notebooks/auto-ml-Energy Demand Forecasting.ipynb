{
 "cells": [
  {
   "cell_type": "markdown",
   "metadata": {},
   "source": [
    "Copyright (c) Microsoft Corporation. All rights reserved.\n",
    "\n",
    "Licensed under the MIT License."
   ]
  },
  {
   "cell_type": "markdown",
   "metadata": {},
   "source": [
    "# <font color = \"blue\"> Read the commentary in the note book to follow, especially pay attention to </font> <font color =\"red\"> Red Text in \"Action Required\" Cells </font>"
   ]
  },
  {
   "cell_type": "markdown",
   "metadata": {},
   "source": [
    "# How to use Jupyter\n",
    "In this workshop we will be using Jupyter notebooks hosted by Azure Notebooks Service. If you are familiar with Jupyter, skip this. If not, here are a few tips\n",
    "\n",
    ">* Select the Kernet Python 3.6\n",
    ">* Jupyter has 'cells'. When you click on anywhere in the notebook, the cell containing the pointer gets selected.\n",
    ">* To run or execute the code in the cell - on the top menu select Cell->Run Cells. Alternatively you can use 'Shift+Enter' keys.\n",
    ">* To Edit cell - Double click the cell\n",
    ">* When you run a cell, the pointer pointing just outside on the left side of the cell will change from [] to [*] (inserts * in the square brackets). When the cell finished executing the '*' changes to a number.\n",
    ">* If the notebook or cell hangs, select from the top menu Kernel->Restart & Clear output for the entire notebook or Kernel->Interrupt for just that cell. Restart will take a few seconds and you would need to reexecute all the cells.\n",
    ">* In Jupyter you do not need to execute in sequence. You can go back to a previous cell that was already executed and execute again. As long as there are no dependencies that messes up the code in that particular cell, you will be fine."
   ]
  },
  {
   "cell_type": "markdown",
   "metadata": {},
   "source": [
    "# Automated Machine Learning: Energy Demand Forecasting\n",
    "In this example, we show how auomated ML can be used for energy demand forecasting. This notebook is for demonstration purpose only.\n",
    "\n",
    "## Use case overview:\n",
    "\n",
    "This scenario focuses on energy demand forecasting where the goal is to predict the future load on an energy grid. It is a critical business operation for companies in the energy sector as operators need to maintain the fine balance between the energy consumed on a grid and the energy supplied to it. Too much power supplied to the grid can result in waste of energy or technical faults. However, if too little power is supplied it can lead to blackouts, leaving customers without power. Typically, grid operators can take short-term decisions to manage energy supply to the grid and keep the load in balance. An accurate short-term forecast of energy demand is therefore essential for the operator to make these decisions with confidence.\n",
    "\n",
    "This scenario details the construction of a machine learning energy demand forecasting solution. The solution is trained on a public dataset from the New York Independent System Operator (NYISO), which operates the power grid for New York State. The dataset includes hourly power demand data for New York City over a period of five years. An additional dataset containing hourly weather conditions in New York City over the same time period was taken from darksky.net.\n",
    "\n",
    "In this notebook you would perform\n",
    "\n",
    "</n><font color = \"blue\"> Sections 0 through 2: By the end of section 2, you would have built a Machine Learning model for the above dataset. </font>\n",
    "0. Basic Setup: You would need to create an Azure Machine Learning workspace to start with. You can do that in Azure Portal or through SDK. The workspace can be shared with your team mates to collaborate on the scripts. You would create an workspace one time and run multiple experiments and build many models.\n",
    "\n",
    "1. Prepare the data: Prepare the data for training.\n",
    "\n",
    "2. Train an automated ML model: We will use Azure Notebooks to train models with automated ML generated pipeline parameters.\n",
    "\n",
    "</n><font color = \"blue\"> Sections 3 through 4: Shows how to scale machine learning model building in the cloud. In the process, we will walk through some of the configuration parameters and controls you get with automated ML. </font>\n",
    "\n",
    "3. Prepare the data for Cloud\n",
    "\n",
    "4. Training Models using Azure Data Science Virtual Machine similar to section 2. However DSVM enables us to run many more runs\n",
    "\n",
    "</n> <font color =\"blue\">Section 5, 6, 7 show post model building activities such as exploring all the models built by AutoML, testing the model etc. </font>\n",
    "\n",
    "5. Explore the results Inspect various way to get all the models built, Many different model metrics\n",
    "\n",
    "6. Testing the fitted model with some test data\n",
    "\n",
    "7. Register the model for deployment and get ready for deployment into Azure Machine Learning model management and deployment hosting\n",
    "\n",
    "</n> <font color =\"blue\">Section 8 is optional if you have time continue with these </font>\n",
    "8. How do I use it when I leave this session and go back to my work / home(Local Setup)\n",
    "9. Training the model using Azure BatchAI"
   ]
  },
  {
   "cell_type": "markdown",
   "metadata": {},
   "source": [
    "# Section 0\n",
    "In this section, an automated machine learning (automl) Experiment and a Project Folder where all the configuration files are written are setup."
   ]
  },
  {
   "cell_type": "markdown",
   "metadata": {},
   "source": [
    "## 0.1 Create Experiment\n",
    "\n",
    "First we will verify you have the latest SDK and update if needed. \n",
    "\n",
    "As part of the setup we will create a <b>Workspace</b>.An Azure ML workspace is an Azure resource that organizes and coordinates the actions of many other Azure resources to assist in executing and sharing machine learning workflows. In particular, an Azure ML workspace coordinates storage, databases, and compute resources providing added functionality for machine learning experimentation, operationalization, and the monitoring of operationalized models.\n",
    "<p>\n",
    "For AutoML you would need to create an <b>Experiment</b>. An <b>Experiment</b> is a named object in a <b>Workspace</b>, which is used to run experiments. The <b>resource group</b> name. \n",
    "<p>\n",
    "The resource group organizes Azure resources and provides a default region for the resources in the group. The resource group will be created if it doesn't exist. Resource groups can be created and viewed in the [Azure portal](https://portal.azure.com)"
   ]
  },
  {
   "cell_type": "code",
   "execution_count": 1,
   "metadata": {},
   "outputs": [
    {
     "name": "stdout",
     "output_type": "stream",
     "text": [
      "SDK Version: 1.0.2\n"
     ]
    }
   ],
   "source": [
    "import azureml.core\n",
    "print(\"SDK Version:\", azureml.core.VERSION)"
   ]
  },
  {
   "cell_type": "markdown",
   "metadata": {},
   "source": [
    "You <b>only</b> need to execute the cell <font color = \"red\"> <b>below</b></font> if you have SDK version less then 1.0.0"
   ]
  },
  {
   "cell_type": "code",
   "execution_count": 2,
   "metadata": {},
   "outputs": [
    {
     "data": {
      "text/plain": [
       "'/anaconda/envs/py36/bin/python'"
      ]
     },
     "execution_count": 2,
     "metadata": {},
     "output_type": "execute_result"
    }
   ],
   "source": [
    "import sys\n",
    "sys.executable"
   ]
  },
  {
   "cell_type": "code",
   "execution_count": 3,
   "metadata": {},
   "outputs": [
    {
     "name": "stdout",
     "output_type": "stream",
     "text": [
      "Name: azureml-core\n",
      "Version: 1.0.2\n",
      "Summary: UNKNOWN\n",
      "Home-page: https://docs.microsoft.com/en-us/azure/machine-learning/service/\n",
      "Author: Microsoft Corp\n",
      "Author-email: None\n",
      "License: https://aka.ms/azureml-sdk-license\n",
      "Location: /data/anaconda/envs/py36/lib/python3.6/site-packages\n",
      "Requires: jsonpickle, azure-storage-blob, azure-graphrbac, azure-storage-nspkg, six, azure-mgmt-keyvault, azure-common, requests, pathspec, ruamel.yaml, PyJWT, pytz, azure-cli-profile, azure-mgmt-authorization, msrestazure, contextlib2, cryptography, azure-mgmt-resource, ndg-httpsclient, docker, azure-storage-common, msrest, SecretStorage, backports.tempfile, azure-mgmt-storage, python-dateutil, azure-cli-core, azure-mgmt-containerregistry, urllib3\n",
      "Required-by: azureml-train-widgets, azureml-train-core, azureml-train-automl, azureml-telemetry, azureml-sdk, azureml-pipeline-core, azureml-contrib-tensorboard, azureml-contrib-server, azureml-contrib-run, azureml-contrib-brainwave\n",
      "\u001b[33mYou are using pip version 10.0.1, however version 18.1 is available.\n",
      "You should consider upgrading via the 'pip install --upgrade pip' command.\u001b[0m\n"
     ]
    }
   ],
   "source": [
    "!/anaconda/envs/py36/bin/pip show azureml.core"
   ]
  },
  {
   "cell_type": "code",
   "execution_count": 5,
   "metadata": {},
   "outputs": [
    {
     "name": "stdout",
     "output_type": "stream",
     "text": [
      "Requirement already up-to-date: azureml-train-automl==1.0.2 in /data/anaconda/envs/py36/lib/python3.6/site-packages (1.0.2)\n",
      "Requirement not upgraded as not directly required: azureml-core==1.0.2.* in /data/anaconda/envs/py36/lib/python3.6/site-packages (from azureml-train-automl==1.0.2) (1.0.2)\n",
      "Requirement not upgraded as not directly required: tensorflow>=1.10.0 in /data/anaconda/envs/py36/lib/python3.6/site-packages (from azureml-train-automl==1.0.2) (1.12.0)\n",
      "Requirement not upgraded as not directly required: sklearn-pandas<=1.7.0,>=1.4.0 in /data/anaconda/envs/py36/lib/python3.6/site-packages (from azureml-train-automl==1.0.2) (1.7.0)\n",
      "Requirement not upgraded as not directly required: azureml-dataprep<0.6.0,>=0.4.0 in /data/anaconda/envs/py36/lib/python3.6/site-packages (from azureml-train-automl==1.0.2) (0.5.3)\n",
      "Requirement not upgraded as not directly required: resource>=0.1.8 in /data/anaconda/envs/py36/lib/python3.6/site-packages (from azureml-train-automl==1.0.2) (0.2.1)\n",
      "Requirement not upgraded as not directly required: pytz in /data/anaconda/envs/py36/lib/python3.6/site-packages (from azureml-train-automl==1.0.2) (2018.5)\n",
      "Requirement not upgraded as not directly required: numpy<1.15.0,>=1.11.0 in /data/anaconda/envs/py36/lib/python3.6/site-packages (from azureml-train-automl==1.0.2) (1.14.5)\n",
      "Requirement not upgraded as not directly required: azureml-telemetry==1.0.2.* in /data/anaconda/envs/py36/lib/python3.6/site-packages (from azureml-train-automl==1.0.2) (1.0.2)\n",
      "Requirement not upgraded as not directly required: lightgbm<=2.2.1,>=2.0.11 in /data/anaconda/envs/py36/lib/python3.6/site-packages (from azureml-train-automl==1.0.2) (2.2.0)\n",
      "Requirement not upgraded as not directly required: dill>=0.2.8 in /data/anaconda/envs/py36/lib/python3.6/site-packages (from azureml-train-automl==1.0.2) (0.2.8.2)\n",
      "Requirement not upgraded as not directly required: scikit-learn==0.19.1 in /data/anaconda/envs/py36/lib/python3.6/site-packages (from azureml-train-automl==1.0.2) (0.19.1)\n",
      "Requirement not upgraded as not directly required: wheel==0.30.0 in /data/anaconda/envs/py36/lib/python3.6/site-packages (from azureml-train-automl==1.0.2) (0.30.0)\n",
      "Requirement not upgraded as not directly required: pandas<=0.23.4,>=0.21.0 in /data/anaconda/envs/py36/lib/python3.6/site-packages (from azureml-train-automl==1.0.2) (0.23.4)\n",
      "Requirement not upgraded as not directly required: scipy<=1.1.0,>=1.0.0 in /data/anaconda/envs/py36/lib/python3.6/site-packages (from azureml-train-automl==1.0.2) (1.1.0)\n",
      "Requirement not upgraded as not directly required: PyJWT in /data/anaconda/envs/py36/lib/python3.6/site-packages (from azureml-core==1.0.2.*->azureml-train-automl==1.0.2) (1.6.4)\n",
      "Requirement not upgraded as not directly required: msrestazure>=0.4.33 in /data/anaconda/envs/py36/lib/python3.6/site-packages (from azureml-core==1.0.2.*->azureml-train-automl==1.0.2) (0.5.0)\n",
      "Requirement not upgraded as not directly required: python-dateutil>=2.7.3 in /data/anaconda/envs/py36/lib/python3.6/site-packages (from azureml-core==1.0.2.*->azureml-train-automl==1.0.2) (2.7.3)\n",
      "Requirement not upgraded as not directly required: six>=1.11.0 in /data/anaconda/envs/py36/lib/python3.6/site-packages (from azureml-core==1.0.2.*->azureml-train-automl==1.0.2) (1.11.0)\n",
      "Requirement not upgraded as not directly required: azure-mgmt-storage>=1.5.0 in /data/anaconda/envs/py36/lib/python3.6/site-packages (from azureml-core==1.0.2.*->azureml-train-automl==1.0.2) (2.0.0)\n",
      "Requirement not upgraded as not directly required: ruamel.yaml<=0.15.51,>=0.15.35 in /data/anaconda/envs/py36/lib/python3.6/site-packages (from azureml-core==1.0.2.*->azureml-train-automl==1.0.2) (0.15.51)\n",
      "Requirement not upgraded as not directly required: azure-mgmt-containerregistry>=2.0.0 in /data/anaconda/envs/py36/lib/python3.6/site-packages (from azureml-core==1.0.2.*->azureml-train-automl==1.0.2) (2.2.0)\n",
      "Requirement not upgraded as not directly required: requests>=2.19.1 in /data/anaconda/envs/py36/lib/python3.6/site-packages (from azureml-core==1.0.2.*->azureml-train-automl==1.0.2) (2.19.1)\n",
      "Requirement not upgraded as not directly required: urllib3<1.24,>=1.23 in /data/anaconda/envs/py36/lib/python3.6/site-packages (from azureml-core==1.0.2.*->azureml-train-automl==1.0.2) (1.23)\n",
      "Requirement not upgraded as not directly required: azure-graphrbac>=0.40.0 in /data/anaconda/envs/py36/lib/python3.6/site-packages (from azureml-core==1.0.2.*->azureml-train-automl==1.0.2) (0.40.0)\n",
      "Requirement not upgraded as not directly required: pathspec in /data/anaconda/envs/py36/lib/python3.6/site-packages (from azureml-core==1.0.2.*->azureml-train-automl==1.0.2) (0.5.9)\n",
      "Requirement not upgraded as not directly required: azure-storage-blob>=1.1.0 in /data/anaconda/envs/py36/lib/python3.6/site-packages (from azureml-core==1.0.2.*->azureml-train-automl==1.0.2) (1.3.1)\n",
      "Requirement not upgraded as not directly required: docker in /data/anaconda/envs/py36/lib/python3.6/site-packages (from azureml-core==1.0.2.*->azureml-train-automl==1.0.2) (3.5.0)\n",
      "Requirement not upgraded as not directly required: contextlib2 in /data/anaconda/envs/py36/lib/python3.6/site-packages (from azureml-core==1.0.2.*->azureml-train-automl==1.0.2) (0.5.5)\n",
      "Requirement not upgraded as not directly required: backports.tempfile in /data/anaconda/envs/py36/lib/python3.6/site-packages (from azureml-core==1.0.2.*->azureml-train-automl==1.0.2) (1.0)\n",
      "Requirement not upgraded as not directly required: SecretStorage<3.0.0 in /data/anaconda/envs/py36/lib/python3.6/site-packages (from azureml-core==1.0.2.*->azureml-train-automl==1.0.2) (2.3.1)\n",
      "Requirement not upgraded as not directly required: azure-mgmt-authorization>=0.40.0 in /data/anaconda/envs/py36/lib/python3.6/site-packages (from azureml-core==1.0.2.*->azureml-train-automl==1.0.2) (0.50.0)\n",
      "Requirement not upgraded as not directly required: azure-storage-nspkg>=3.0.0 in /data/anaconda/envs/py36/lib/python3.6/site-packages (from azureml-core==1.0.2.*->azureml-train-automl==1.0.2) (3.0.0)\n",
      "Requirement not upgraded as not directly required: azure-mgmt-resource>=1.2.1 in /data/anaconda/envs/py36/lib/python3.6/site-packages (from azureml-core==1.0.2.*->azureml-train-automl==1.0.2) (2.0.0)\n",
      "Requirement not upgraded as not directly required: azure-storage-common>=1.1.0 in /data/anaconda/envs/py36/lib/python3.6/site-packages (from azureml-core==1.0.2.*->azureml-train-automl==1.0.2) (1.3.0)\n",
      "Requirement not upgraded as not directly required: azure-common>=1.1.12 in /data/anaconda/envs/py36/lib/python3.6/site-packages (from azureml-core==1.0.2.*->azureml-train-automl==1.0.2) (1.1.15)\n",
      "Requirement not upgraded as not directly required: cryptography!=1.9,!=2.0.*,!=2.1.*,!=2.2.* in /data/anaconda/envs/py36/lib/python3.6/site-packages (from azureml-core==1.0.2.*->azureml-train-automl==1.0.2) (2.3.1)\n",
      "Requirement not upgraded as not directly required: jsonpickle in /data/anaconda/envs/py36/lib/python3.6/site-packages (from azureml-core==1.0.2.*->azureml-train-automl==1.0.2) (0.9.6)\n",
      "Requirement not upgraded as not directly required: msrest>=0.5.1 in /data/anaconda/envs/py36/lib/python3.6/site-packages (from azureml-core==1.0.2.*->azureml-train-automl==1.0.2) (0.5.5)\n",
      "Requirement not upgraded as not directly required: ndg-httpsclient in /data/anaconda/envs/py36/lib/python3.6/site-packages (from azureml-core==1.0.2.*->azureml-train-automl==1.0.2) (0.5.1)\n",
      "Requirement not upgraded as not directly required: azure-mgmt-keyvault>=0.40.0 in /data/anaconda/envs/py36/lib/python3.6/site-packages (from azureml-core==1.0.2.*->azureml-train-automl==1.0.2) (1.1.0)\n",
      "Requirement not upgraded as not directly required: azure-cli-core>=2.0.38 in /data/anaconda/envs/py36/lib/python3.6/site-packages (from azureml-core==1.0.2.*->azureml-train-automl==1.0.2) (2.0.45)\n",
      "Requirement not upgraded as not directly required: azure-cli-profile>=2.0.26 in /data/anaconda/envs/py36/lib/python3.6/site-packages (from azureml-core==1.0.2.*->azureml-train-automl==1.0.2) (2.1.1)\n",
      "Requirement not upgraded as not directly required: grpcio>=1.8.6 in /data/anaconda/envs/py36/lib/python3.6/site-packages (from tensorflow>=1.10.0->azureml-train-automl==1.0.2) (1.15.0)\n",
      "Requirement not upgraded as not directly required: termcolor>=1.1.0 in /data/anaconda/envs/py36/lib/python3.6/site-packages (from tensorflow>=1.10.0->azureml-train-automl==1.0.2) (1.1.0)\n",
      "Requirement not upgraded as not directly required: tensorboard<1.13.0,>=1.12.0 in /data/anaconda/envs/py36/lib/python3.6/site-packages (from tensorflow>=1.10.0->azureml-train-automl==1.0.2) (1.12.1)\n"
     ]
    },
    {
     "name": "stdout",
     "output_type": "stream",
     "text": [
      "Requirement not upgraded as not directly required: keras-applications>=1.0.6 in /data/anaconda/envs/py36/lib/python3.6/site-packages (from tensorflow>=1.10.0->azureml-train-automl==1.0.2) (1.0.6)\n",
      "Requirement not upgraded as not directly required: gast>=0.2.0 in /data/anaconda/envs/py36/lib/python3.6/site-packages (from tensorflow>=1.10.0->azureml-train-automl==1.0.2) (0.2.0)\n",
      "Requirement not upgraded as not directly required: astor>=0.6.0 in /data/anaconda/envs/py36/lib/python3.6/site-packages (from tensorflow>=1.10.0->azureml-train-automl==1.0.2) (0.7.1)\n",
      "Requirement not upgraded as not directly required: protobuf>=3.6.1 in /data/anaconda/envs/py36/lib/python3.6/site-packages (from tensorflow>=1.10.0->azureml-train-automl==1.0.2) (3.6.1)\n",
      "Requirement not upgraded as not directly required: absl-py>=0.1.6 in /data/anaconda/envs/py36/lib/python3.6/site-packages (from tensorflow>=1.10.0->azureml-train-automl==1.0.2) (0.5.0)\n",
      "Requirement not upgraded as not directly required: keras-preprocessing>=1.0.5 in /data/anaconda/envs/py36/lib/python3.6/site-packages (from tensorflow>=1.10.0->azureml-train-automl==1.0.2) (1.0.5)\n",
      "Requirement not upgraded as not directly required: dotnetcore2==2.1.7 in /data/anaconda/envs/py36/lib/python3.6/site-packages (from azureml-dataprep<0.6.0,>=0.4.0->azureml-train-automl==1.0.2) (2.1.7)\n",
      "Requirement not upgraded as not directly required: azureml-dataprep-native<12.0.0,>=11.1.2 in /data/anaconda/envs/py36/lib/python3.6/site-packages (from azureml-dataprep<0.6.0,>=0.4.0->azureml-train-automl==1.0.2) (11.1.2)\n",
      "Requirement not upgraded as not directly required: JsonForm>=0.0.2 in /data/anaconda/envs/py36/lib/python3.6/site-packages (from resource>=0.1.8->azureml-train-automl==1.0.2) (0.0.2)\n",
      "Requirement not upgraded as not directly required: JsonSir>=0.0.2 in /data/anaconda/envs/py36/lib/python3.6/site-packages (from resource>=0.1.8->azureml-train-automl==1.0.2) (0.0.2)\n",
      "Requirement not upgraded as not directly required: python-easyconfig>=0.1.0 in /data/anaconda/envs/py36/lib/python3.6/site-packages (from resource>=0.1.8->azureml-train-automl==1.0.2) (0.1.7)\n",
      "Requirement not upgraded as not directly required: applicationinsights in /data/anaconda/envs/py36/lib/python3.6/site-packages (from azureml-telemetry==1.0.2.*->azureml-train-automl==1.0.2) (0.11.6)\n",
      "Requirement not upgraded as not directly required: adal<2.0.0,>=0.6.0 in /data/anaconda/envs/py36/lib/python3.6/site-packages (from msrestazure>=0.4.33->azureml-core==1.0.2.*->azureml-train-automl==1.0.2) (1.1.0)\n",
      "Requirement not upgraded as not directly required: azure-mgmt-nspkg>=2.0.0 in /data/anaconda/envs/py36/lib/python3.6/site-packages (from azure-mgmt-storage>=1.5.0->azureml-core==1.0.2.*->azureml-train-automl==1.0.2) (2.0.0)\n",
      "Requirement not upgraded as not directly required: certifi>=2017.4.17 in /data/anaconda/envs/py36/lib/python3.6/site-packages (from requests>=2.19.1->azureml-core==1.0.2.*->azureml-train-automl==1.0.2) (2018.8.24)\n",
      "Requirement not upgraded as not directly required: idna<2.8,>=2.5 in /data/anaconda/envs/py36/lib/python3.6/site-packages (from requests>=2.19.1->azureml-core==1.0.2.*->azureml-train-automl==1.0.2) (2.7)\n",
      "Requirement not upgraded as not directly required: chardet<3.1.0,>=3.0.2 in /data/anaconda/envs/py36/lib/python3.6/site-packages (from requests>=2.19.1->azureml-core==1.0.2.*->azureml-train-automl==1.0.2) (3.0.4)\n",
      "Requirement not upgraded as not directly required: azure-nspkg>=2.0.0 in /data/anaconda/envs/py36/lib/python3.6/site-packages (from azure-graphrbac>=0.40.0->azureml-core==1.0.2.*->azureml-train-automl==1.0.2) (2.0.0)\n",
      "Requirement not upgraded as not directly required: websocket-client>=0.32.0 in /data/anaconda/envs/py36/lib/python3.6/site-packages (from docker->azureml-core==1.0.2.*->azureml-train-automl==1.0.2) (0.53.0)\n",
      "Requirement not upgraded as not directly required: docker-pycreds>=0.3.0 in /data/anaconda/envs/py36/lib/python3.6/site-packages (from docker->azureml-core==1.0.2.*->azureml-train-automl==1.0.2) (0.3.0)\n",
      "Requirement not upgraded as not directly required: backports.weakref in /data/anaconda/envs/py36/lib/python3.6/site-packages (from backports.tempfile->azureml-core==1.0.2.*->azureml-train-automl==1.0.2) (1.0.post1)\n",
      "Requirement not upgraded as not directly required: asn1crypto>=0.21.0 in /data/anaconda/envs/py36/lib/python3.6/site-packages (from cryptography!=1.9,!=2.0.*,!=2.1.*,!=2.2.*->azureml-core==1.0.2.*->azureml-train-automl==1.0.2) (0.24.0)\n",
      "Requirement not upgraded as not directly required: cffi!=1.11.3,>=1.7 in /data/anaconda/envs/py36/lib/python3.6/site-packages (from cryptography!=1.9,!=2.0.*,!=2.1.*,!=2.2.*->azureml-core==1.0.2.*->azureml-train-automl==1.0.2) (1.11.5)\n",
      "Requirement not upgraded as not directly required: requests-oauthlib>=0.5.0 in /data/anaconda/envs/py36/lib/python3.6/site-packages (from msrest>=0.5.1->azureml-core==1.0.2.*->azureml-train-automl==1.0.2) (1.0.0)\n",
      "Requirement not upgraded as not directly required: isodate>=0.6.0 in /data/anaconda/envs/py36/lib/python3.6/site-packages (from msrest>=0.5.1->azureml-core==1.0.2.*->azureml-train-automl==1.0.2) (0.6.0)\n",
      "Requirement not upgraded as not directly required: pyasn1>=0.1.1 in /data/anaconda/envs/py36/lib/python3.6/site-packages (from ndg-httpsclient->azureml-core==1.0.2.*->azureml-train-automl==1.0.2) (0.4.4)\n",
      "Requirement not upgraded as not directly required: PyOpenSSL in /data/anaconda/envs/py36/lib/python3.6/site-packages (from ndg-httpsclient->azureml-core==1.0.2.*->azureml-train-automl==1.0.2) (18.0.0)\n",
      "Requirement not upgraded as not directly required: paramiko>=2.0.8 in /data/anaconda/envs/py36/lib/python3.6/site-packages (from azure-cli-core>=2.0.38->azureml-core==1.0.2.*->azureml-train-automl==1.0.2) (2.4.2)\n",
      "Requirement not upgraded as not directly required: azure-cli-telemetry in /data/anaconda/envs/py36/lib/python3.6/site-packages (from azure-cli-core>=2.0.38->azureml-core==1.0.2.*->azureml-train-automl==1.0.2) (1.0.0)\n",
      "Requirement not upgraded as not directly required: pyyaml~=3.13 in /data/anaconda/envs/py36/lib/python3.6/site-packages (from azure-cli-core>=2.0.38->azureml-core==1.0.2.*->azureml-train-automl==1.0.2) (3.13)\n",
      "Requirement not upgraded as not directly required: knack==0.4.2 in /data/anaconda/envs/py36/lib/python3.6/site-packages (from azure-cli-core>=2.0.38->azureml-core==1.0.2.*->azureml-train-automl==1.0.2) (0.4.2)\n",
      "Requirement not upgraded as not directly required: colorama>=0.3.9 in /data/anaconda/envs/py36/lib/python3.6/site-packages (from azure-cli-core>=2.0.38->azureml-core==1.0.2.*->azureml-train-automl==1.0.2) (0.3.9)\n",
      "Requirement not upgraded as not directly required: argcomplete>=1.8.0 in /data/anaconda/envs/py36/lib/python3.6/site-packages (from azure-cli-core>=2.0.38->azureml-core==1.0.2.*->azureml-train-automl==1.0.2) (1.9.4)\n",
      "Requirement not upgraded as not directly required: pygments in /data/anaconda/envs/py36/lib/python3.6/site-packages (from azure-cli-core>=2.0.38->azureml-core==1.0.2.*->azureml-train-automl==1.0.2) (2.2.0)\n",
      "Requirement not upgraded as not directly required: jmespath in /data/anaconda/envs/py36/lib/python3.6/site-packages (from azure-cli-core>=2.0.38->azureml-core==1.0.2.*->azureml-train-automl==1.0.2) (0.9.3)\n",
      "Requirement not upgraded as not directly required: antlr4-python3-runtime in /data/anaconda/envs/py36/lib/python3.6/site-packages (from azure-cli-core>=2.0.38->azureml-core==1.0.2.*->azureml-train-automl==1.0.2) (4.7.1)\n",
      "Requirement not upgraded as not directly required: pip in /data/anaconda/envs/py36/lib/python3.6/site-packages (from azure-cli-core>=2.0.38->azureml-core==1.0.2.*->azureml-train-automl==1.0.2) (10.0.1)\n",
      "Requirement not upgraded as not directly required: tabulate<=0.8.2,>=0.7.7 in /data/anaconda/envs/py36/lib/python3.6/site-packages (from azure-cli-core>=2.0.38->azureml-core==1.0.2.*->azureml-train-automl==1.0.2) (0.8.2)\n",
      "Requirement not upgraded as not directly required: azure-cli-nspkg>=2.0.0 in /data/anaconda/envs/py36/lib/python3.6/site-packages (from azure-cli-core>=2.0.38->azureml-core==1.0.2.*->azureml-train-automl==1.0.2) (3.0.3)\n",
      "Requirement not upgraded as not directly required: humanfriendly>=4.7 in /data/anaconda/envs/py36/lib/python3.6/site-packages (from azure-cli-core>=2.0.38->azureml-core==1.0.2.*->azureml-train-automl==1.0.2) (4.16.1)\n"
     ]
    },
    {
     "name": "stdout",
     "output_type": "stream",
     "text": [
      "Requirement not upgraded as not directly required: azure-cli-command-modules-nspkg>=2.0.0 in /data/anaconda/envs/py36/lib/python3.6/site-packages (from azure-cli-profile>=2.0.26->azureml-core==1.0.2.*->azureml-train-automl==1.0.2) (2.0.2)\n",
      "Requirement not upgraded as not directly required: werkzeug>=0.11.10 in /data/anaconda/envs/py36/lib/python3.6/site-packages (from tensorboard<1.13.0,>=1.12.0->tensorflow>=1.10.0->azureml-train-automl==1.0.2) (0.14.1)\n",
      "Requirement not upgraded as not directly required: markdown>=2.6.8 in /data/anaconda/envs/py36/lib/python3.6/site-packages (from tensorboard<1.13.0,>=1.12.0->tensorflow>=1.10.0->azureml-train-automl==1.0.2) (2.6.11)\n",
      "Requirement not upgraded as not directly required: h5py in /data/anaconda/envs/py36/lib/python3.6/site-packages (from keras-applications>=1.0.6->tensorflow>=1.10.0->azureml-train-automl==1.0.2) (2.8.0)\n",
      "Requirement not upgraded as not directly required: setuptools in /data/anaconda/envs/py36/lib/python3.6/site-packages (from protobuf>=3.6.1->tensorflow>=1.10.0->azureml-train-automl==1.0.2) (39.1.0)\n",
      "Requirement not upgraded as not directly required: distro>=1.2.0 in /data/anaconda/envs/py36/lib/python3.6/site-packages (from dotnetcore2==2.1.7->azureml-dataprep<0.6.0,>=0.4.0->azureml-train-automl==1.0.2) (1.3.0)\n",
      "Requirement not upgraded as not directly required: jsonschema in /data/anaconda/envs/py36/lib/python3.6/site-packages (from JsonForm>=0.0.2->resource>=0.1.8->azureml-train-automl==1.0.2) (2.6.0)\n",
      "Requirement not upgraded as not directly required: pycparser in /data/anaconda/envs/py36/lib/python3.6/site-packages (from cffi!=1.11.3,>=1.7->cryptography!=1.9,!=2.0.*,!=2.1.*,!=2.2.*->azureml-core==1.0.2.*->azureml-train-automl==1.0.2) (2.18)\n",
      "Requirement not upgraded as not directly required: oauthlib>=0.6.2 in /data/anaconda/envs/py36/lib/python3.6/site-packages (from requests-oauthlib>=0.5.0->msrest>=0.5.1->azureml-core==1.0.2.*->azureml-train-automl==1.0.2) (2.1.0)\n",
      "Requirement not upgraded as not directly required: bcrypt>=3.1.3 in /data/anaconda/envs/py36/lib/python3.6/site-packages (from paramiko>=2.0.8->azure-cli-core>=2.0.38->azureml-core==1.0.2.*->azureml-train-automl==1.0.2) (3.1.4)\n",
      "Requirement not upgraded as not directly required: pynacl>=1.0.1 in /data/anaconda/envs/py36/lib/python3.6/site-packages (from paramiko>=2.0.8->azure-cli-core>=2.0.38->azureml-core==1.0.2.*->azureml-train-automl==1.0.2) (1.2.1)\n",
      "Requirement not upgraded as not directly required: portalocker==1.2.1 in /data/anaconda/envs/py36/lib/python3.6/site-packages (from azure-cli-telemetry->azure-cli-core>=2.0.38->azureml-core==1.0.2.*->azureml-train-automl==1.0.2) (1.2.1)\n",
      "\u001b[31mtwisted 18.7.0 requires PyHamcrest>=1.9.0, which is not installed.\u001b[0m\n",
      "\u001b[31mtensorflow-gpu 1.10.1 has requirement tensorboard<1.11.0,>=1.10.0, but you'll have tensorboard 1.12.1 which is incompatible.\u001b[0m\n",
      "\u001b[31mazureml-train-widgets 0.1.56 has requirement azureml-core==0.1.56, but you'll have azureml-core 1.0.2 which is incompatible.\u001b[0m\n",
      "\u001b[31mazureml-train-widgets 0.1.56 has requirement azureml-train-core==0.1.56, but you'll have azureml-train-core 1.0.2 which is incompatible.\u001b[0m\n",
      "\u001b[31mazureml-contrib-tensorboard 0.1.56 has requirement azureml-core==0.1.56, but you'll have azureml-core 1.0.2 which is incompatible.\u001b[0m\n",
      "\u001b[31mazureml-contrib-server 0.1.56 has requirement azureml-core==0.1.56, but you'll have azureml-core 1.0.2 which is incompatible.\u001b[0m\n",
      "\u001b[31mazureml-contrib-run 0.1.56 has requirement azureml-core==0.1.56, but you'll have azureml-core 1.0.2 which is incompatible.\u001b[0m\n",
      "\u001b[31mazureml-contrib-brainwave 0.1.56 has requirement azureml-core==0.1.56, but you'll have azureml-core 1.0.2 which is incompatible.\u001b[0m\n",
      "\u001b[33mYou are using pip version 10.0.1, however version 18.1 is available.\n",
      "You should consider upgrading via the 'pip install --upgrade pip' command.\u001b[0m\n"
     ]
    }
   ],
   "source": [
    "!/anaconda/envs/py36/bin/pip install --upgrade azureml-train-automl==1.0.2"
   ]
  },
  {
   "cell_type": "code",
   "execution_count": 6,
   "metadata": {
    "scrolled": false
   },
   "outputs": [
    {
     "name": "stdout",
     "output_type": "stream",
     "text": [
      "Requirement already up-to-date: azureml-sdk[explain] in /data/anaconda/envs/py36/lib/python3.6/site-packages (1.0.2)\n",
      "Requirement not upgraded as not directly required: azureml-core==1.0.2.* in /data/anaconda/envs/py36/lib/python3.6/site-packages (from azureml-sdk[explain]) (1.0.2)\n",
      "Requirement not upgraded as not directly required: azureml-pipeline==1.0.2.* in /data/anaconda/envs/py36/lib/python3.6/site-packages (from azureml-sdk[explain]) (1.0.2)\n",
      "Requirement not upgraded as not directly required: azureml-train==1.0.2.* in /data/anaconda/envs/py36/lib/python3.6/site-packages (from azureml-sdk[explain]) (1.0.2)\n",
      "Requirement not upgraded as not directly required: azureml-explain-model==1.0.2.*; extra == \"explain\" in /data/anaconda/envs/py36/lib/python3.6/site-packages (from azureml-sdk[explain]) (1.0.2)\n",
      "Requirement not upgraded as not directly required: docker in /data/anaconda/envs/py36/lib/python3.6/site-packages (from azureml-core==1.0.2.*->azureml-sdk[explain]) (3.5.0)\n",
      "Requirement not upgraded as not directly required: backports.tempfile in /data/anaconda/envs/py36/lib/python3.6/site-packages (from azureml-core==1.0.2.*->azureml-sdk[explain]) (1.0)\n",
      "Requirement not upgraded as not directly required: azure-cli-core>=2.0.38 in /data/anaconda/envs/py36/lib/python3.6/site-packages (from azureml-core==1.0.2.*->azureml-sdk[explain]) (2.0.45)\n",
      "Requirement not upgraded as not directly required: msrestazure>=0.4.33 in /data/anaconda/envs/py36/lib/python3.6/site-packages (from azureml-core==1.0.2.*->azureml-sdk[explain]) (0.5.0)\n",
      "Requirement not upgraded as not directly required: contextlib2 in /data/anaconda/envs/py36/lib/python3.6/site-packages (from azureml-core==1.0.2.*->azureml-sdk[explain]) (0.5.5)\n",
      "Requirement not upgraded as not directly required: PyJWT in /data/anaconda/envs/py36/lib/python3.6/site-packages (from azureml-core==1.0.2.*->azureml-sdk[explain]) (1.6.4)\n",
      "Requirement not upgraded as not directly required: azure-graphrbac>=0.40.0 in /data/anaconda/envs/py36/lib/python3.6/site-packages (from azureml-core==1.0.2.*->azureml-sdk[explain]) (0.40.0)\n",
      "Requirement not upgraded as not directly required: ndg-httpsclient in /data/anaconda/envs/py36/lib/python3.6/site-packages (from azureml-core==1.0.2.*->azureml-sdk[explain]) (0.5.1)\n",
      "Requirement not upgraded as not directly required: pytz in /data/anaconda/envs/py36/lib/python3.6/site-packages (from azureml-core==1.0.2.*->azureml-sdk[explain]) (2018.5)\n",
      "Requirement not upgraded as not directly required: ruamel.yaml<=0.15.51,>=0.15.35 in /data/anaconda/envs/py36/lib/python3.6/site-packages (from azureml-core==1.0.2.*->azureml-sdk[explain]) (0.15.51)\n",
      "Requirement not upgraded as not directly required: azure-storage-common>=1.1.0 in /data/anaconda/envs/py36/lib/python3.6/site-packages (from azureml-core==1.0.2.*->azureml-sdk[explain]) (1.3.0)\n",
      "Requirement not upgraded as not directly required: pathspec in /data/anaconda/envs/py36/lib/python3.6/site-packages (from azureml-core==1.0.2.*->azureml-sdk[explain]) (0.5.9)\n",
      "Requirement not upgraded as not directly required: six>=1.11.0 in /data/anaconda/envs/py36/lib/python3.6/site-packages (from azureml-core==1.0.2.*->azureml-sdk[explain]) (1.11.0)\n",
      "Requirement not upgraded as not directly required: azure-cli-profile>=2.0.26 in /data/anaconda/envs/py36/lib/python3.6/site-packages (from azureml-core==1.0.2.*->azureml-sdk[explain]) (2.1.1)\n",
      "Requirement not upgraded as not directly required: urllib3<1.24,>=1.23 in /data/anaconda/envs/py36/lib/python3.6/site-packages (from azureml-core==1.0.2.*->azureml-sdk[explain]) (1.23)\n",
      "Requirement not upgraded as not directly required: azure-common>=1.1.12 in /data/anaconda/envs/py36/lib/python3.6/site-packages (from azureml-core==1.0.2.*->azureml-sdk[explain]) (1.1.15)\n",
      "Requirement not upgraded as not directly required: requests>=2.19.1 in /data/anaconda/envs/py36/lib/python3.6/site-packages (from azureml-core==1.0.2.*->azureml-sdk[explain]) (2.19.1)\n",
      "Requirement not upgraded as not directly required: azure-storage-nspkg>=3.0.0 in /data/anaconda/envs/py36/lib/python3.6/site-packages (from azureml-core==1.0.2.*->azureml-sdk[explain]) (3.0.0)\n",
      "Requirement not upgraded as not directly required: azure-storage-blob>=1.1.0 in /data/anaconda/envs/py36/lib/python3.6/site-packages (from azureml-core==1.0.2.*->azureml-sdk[explain]) (1.3.1)\n",
      "Requirement not upgraded as not directly required: azure-mgmt-resource>=1.2.1 in /data/anaconda/envs/py36/lib/python3.6/site-packages (from azureml-core==1.0.2.*->azureml-sdk[explain]) (2.0.0)\n",
      "Requirement not upgraded as not directly required: azure-mgmt-containerregistry>=2.0.0 in /data/anaconda/envs/py36/lib/python3.6/site-packages (from azureml-core==1.0.2.*->azureml-sdk[explain]) (2.2.0)\n",
      "Requirement not upgraded as not directly required: SecretStorage<3.0.0 in /data/anaconda/envs/py36/lib/python3.6/site-packages (from azureml-core==1.0.2.*->azureml-sdk[explain]) (2.3.1)\n",
      "Requirement not upgraded as not directly required: jsonpickle in /data/anaconda/envs/py36/lib/python3.6/site-packages (from azureml-core==1.0.2.*->azureml-sdk[explain]) (0.9.6)\n",
      "Requirement not upgraded as not directly required: python-dateutil>=2.7.3 in /data/anaconda/envs/py36/lib/python3.6/site-packages (from azureml-core==1.0.2.*->azureml-sdk[explain]) (2.7.3)\n",
      "Requirement not upgraded as not directly required: azure-mgmt-keyvault>=0.40.0 in /data/anaconda/envs/py36/lib/python3.6/site-packages (from azureml-core==1.0.2.*->azureml-sdk[explain]) (1.1.0)\n",
      "Requirement not upgraded as not directly required: azure-mgmt-storage>=1.5.0 in /data/anaconda/envs/py36/lib/python3.6/site-packages (from azureml-core==1.0.2.*->azureml-sdk[explain]) (2.0.0)\n",
      "Requirement not upgraded as not directly required: msrest>=0.5.1 in /data/anaconda/envs/py36/lib/python3.6/site-packages (from azureml-core==1.0.2.*->azureml-sdk[explain]) (0.5.5)\n",
      "Requirement not upgraded as not directly required: azure-mgmt-authorization>=0.40.0 in /data/anaconda/envs/py36/lib/python3.6/site-packages (from azureml-core==1.0.2.*->azureml-sdk[explain]) (0.50.0)\n",
      "Requirement not upgraded as not directly required: cryptography!=1.9,!=2.0.*,!=2.1.*,!=2.2.* in /data/anaconda/envs/py36/lib/python3.6/site-packages (from azureml-core==1.0.2.*->azureml-sdk[explain]) (2.3.1)\n",
      "Requirement not upgraded as not directly required: azureml-pipeline-steps==1.0.2.* in /data/anaconda/envs/py36/lib/python3.6/site-packages (from azureml-pipeline==1.0.2.*->azureml-sdk[explain]) (1.0.2)\n",
      "Requirement not upgraded as not directly required: azureml-pipeline-core==1.0.2.* in /data/anaconda/envs/py36/lib/python3.6/site-packages (from azureml-pipeline==1.0.2.*->azureml-sdk[explain]) (1.0.2)\n",
      "Requirement not upgraded as not directly required: azureml-train-core==1.0.2.* in /data/anaconda/envs/py36/lib/python3.6/site-packages (from azureml-train==1.0.2.*->azureml-sdk[explain]) (1.0.2)\n",
      "Requirement not upgraded as not directly required: numpy in /data/anaconda/envs/py36/lib/python3.6/site-packages (from azureml-explain-model==1.0.2.*; extra == \"explain\"->azureml-sdk[explain]) (1.14.5)\n",
      "Requirement not upgraded as not directly required: shap<=0.25.2,>=0.20.0 in /data/anaconda/envs/py36/lib/python3.6/site-packages (from azureml-explain-model==1.0.2.*; extra == \"explain\"->azureml-sdk[explain]) (0.24.0)\n",
      "Requirement not upgraded as not directly required: pandas in /data/anaconda/envs/py36/lib/python3.6/site-packages (from azureml-explain-model==1.0.2.*; extra == \"explain\"->azureml-sdk[explain]) (0.23.4)\n",
      "Requirement not upgraded as not directly required: docker-pycreds>=0.3.0 in /data/anaconda/envs/py36/lib/python3.6/site-packages (from docker->azureml-core==1.0.2.*->azureml-sdk[explain]) (0.3.0)\n",
      "Requirement not upgraded as not directly required: websocket-client>=0.32.0 in /data/anaconda/envs/py36/lib/python3.6/site-packages (from docker->azureml-core==1.0.2.*->azureml-sdk[explain]) (0.53.0)\n",
      "Requirement not upgraded as not directly required: backports.weakref in /data/anaconda/envs/py36/lib/python3.6/site-packages (from backports.tempfile->azureml-core==1.0.2.*->azureml-sdk[explain]) (1.0.post1)\n",
      "Requirement not upgraded as not directly required: tabulate<=0.8.2,>=0.7.7 in /data/anaconda/envs/py36/lib/python3.6/site-packages (from azure-cli-core>=2.0.38->azureml-core==1.0.2.*->azureml-sdk[explain]) (0.8.2)\n",
      "Requirement not upgraded as not directly required: jmespath in /data/anaconda/envs/py36/lib/python3.6/site-packages (from azure-cli-core>=2.0.38->azureml-core==1.0.2.*->azureml-sdk[explain]) (0.9.3)\n",
      "Requirement not upgraded as not directly required: argcomplete>=1.8.0 in /data/anaconda/envs/py36/lib/python3.6/site-packages (from azure-cli-core>=2.0.38->azureml-core==1.0.2.*->azureml-sdk[explain]) (1.9.4)\n"
     ]
    },
    {
     "name": "stdout",
     "output_type": "stream",
     "text": [
      "Requirement not upgraded as not directly required: pip in /data/anaconda/envs/py36/lib/python3.6/site-packages (from azure-cli-core>=2.0.38->azureml-core==1.0.2.*->azureml-sdk[explain]) (10.0.1)\n",
      "Requirement not upgraded as not directly required: knack==0.4.2 in /data/anaconda/envs/py36/lib/python3.6/site-packages (from azure-cli-core>=2.0.38->azureml-core==1.0.2.*->azureml-sdk[explain]) (0.4.2)\n",
      "Requirement not upgraded as not directly required: paramiko>=2.0.8 in /data/anaconda/envs/py36/lib/python3.6/site-packages (from azure-cli-core>=2.0.38->azureml-core==1.0.2.*->azureml-sdk[explain]) (2.4.2)\n",
      "Requirement not upgraded as not directly required: wheel==0.30.0 in /data/anaconda/envs/py36/lib/python3.6/site-packages (from azure-cli-core>=2.0.38->azureml-core==1.0.2.*->azureml-sdk[explain]) (0.30.0)\n",
      "Requirement not upgraded as not directly required: antlr4-python3-runtime in /data/anaconda/envs/py36/lib/python3.6/site-packages (from azure-cli-core>=2.0.38->azureml-core==1.0.2.*->azureml-sdk[explain]) (4.7.1)\n",
      "Requirement not upgraded as not directly required: humanfriendly>=4.7 in /data/anaconda/envs/py36/lib/python3.6/site-packages (from azure-cli-core>=2.0.38->azureml-core==1.0.2.*->azureml-sdk[explain]) (4.16.1)\n",
      "Requirement not upgraded as not directly required: pyopenssl>=17.1.0 in /data/anaconda/envs/py36/lib/python3.6/site-packages (from azure-cli-core>=2.0.38->azureml-core==1.0.2.*->azureml-sdk[explain]) (18.0.0)\n",
      "Requirement not upgraded as not directly required: azure-cli-telemetry in /data/anaconda/envs/py36/lib/python3.6/site-packages (from azure-cli-core>=2.0.38->azureml-core==1.0.2.*->azureml-sdk[explain]) (1.0.0)\n",
      "Requirement not upgraded as not directly required: colorama>=0.3.9 in /data/anaconda/envs/py36/lib/python3.6/site-packages (from azure-cli-core>=2.0.38->azureml-core==1.0.2.*->azureml-sdk[explain]) (0.3.9)\n",
      "Requirement not upgraded as not directly required: adal>=1.0.2 in /data/anaconda/envs/py36/lib/python3.6/site-packages (from azure-cli-core>=2.0.38->azureml-core==1.0.2.*->azureml-sdk[explain]) (1.1.0)\n",
      "Requirement not upgraded as not directly required: pygments in /data/anaconda/envs/py36/lib/python3.6/site-packages (from azure-cli-core>=2.0.38->azureml-core==1.0.2.*->azureml-sdk[explain]) (2.2.0)\n",
      "Requirement not upgraded as not directly required: pyyaml~=3.13 in /data/anaconda/envs/py36/lib/python3.6/site-packages (from azure-cli-core>=2.0.38->azureml-core==1.0.2.*->azureml-sdk[explain]) (3.13)\n",
      "Requirement not upgraded as not directly required: azure-cli-nspkg>=2.0.0 in /data/anaconda/envs/py36/lib/python3.6/site-packages (from azure-cli-core>=2.0.38->azureml-core==1.0.2.*->azureml-sdk[explain]) (3.0.3)\n",
      "Requirement not upgraded as not directly required: azure-nspkg>=2.0.0 in /data/anaconda/envs/py36/lib/python3.6/site-packages (from azure-graphrbac>=0.40.0->azureml-core==1.0.2.*->azureml-sdk[explain]) (2.0.0)\n",
      "Requirement not upgraded as not directly required: pyasn1>=0.1.1 in /data/anaconda/envs/py36/lib/python3.6/site-packages (from ndg-httpsclient->azureml-core==1.0.2.*->azureml-sdk[explain]) (0.4.4)\n",
      "Requirement not upgraded as not directly required: azure-cli-command-modules-nspkg>=2.0.0 in /data/anaconda/envs/py36/lib/python3.6/site-packages (from azure-cli-profile>=2.0.26->azureml-core==1.0.2.*->azureml-sdk[explain]) (2.0.2)\n",
      "Requirement not upgraded as not directly required: certifi>=2017.4.17 in /data/anaconda/envs/py36/lib/python3.6/site-packages (from requests>=2.19.1->azureml-core==1.0.2.*->azureml-sdk[explain]) (2018.8.24)\n",
      "Requirement not upgraded as not directly required: chardet<3.1.0,>=3.0.2 in /data/anaconda/envs/py36/lib/python3.6/site-packages (from requests>=2.19.1->azureml-core==1.0.2.*->azureml-sdk[explain]) (3.0.4)\n",
      "Requirement not upgraded as not directly required: idna<2.8,>=2.5 in /data/anaconda/envs/py36/lib/python3.6/site-packages (from requests>=2.19.1->azureml-core==1.0.2.*->azureml-sdk[explain]) (2.7)\n",
      "Requirement not upgraded as not directly required: azure-mgmt-nspkg>=2.0.0 in /data/anaconda/envs/py36/lib/python3.6/site-packages (from azure-mgmt-resource>=1.2.1->azureml-core==1.0.2.*->azureml-sdk[explain]) (2.0.0)\n",
      "Requirement not upgraded as not directly required: isodate>=0.6.0 in /data/anaconda/envs/py36/lib/python3.6/site-packages (from msrest>=0.5.1->azureml-core==1.0.2.*->azureml-sdk[explain]) (0.6.0)\n",
      "Requirement not upgraded as not directly required: requests-oauthlib>=0.5.0 in /data/anaconda/envs/py36/lib/python3.6/site-packages (from msrest>=0.5.1->azureml-core==1.0.2.*->azureml-sdk[explain]) (1.0.0)\n",
      "Requirement not upgraded as not directly required: asn1crypto>=0.21.0 in /data/anaconda/envs/py36/lib/python3.6/site-packages (from cryptography!=1.9,!=2.0.*,!=2.1.*,!=2.2.*->azureml-core==1.0.2.*->azureml-sdk[explain]) (0.24.0)\n",
      "Requirement not upgraded as not directly required: cffi!=1.11.3,>=1.7 in /data/anaconda/envs/py36/lib/python3.6/site-packages (from cryptography!=1.9,!=2.0.*,!=2.1.*,!=2.2.*->azureml-core==1.0.2.*->azureml-sdk[explain]) (1.11.5)\n",
      "Requirement not upgraded as not directly required: azureml-telemetry==1.0.2.* in /data/anaconda/envs/py36/lib/python3.6/site-packages (from azureml-train-core==1.0.2.*->azureml-train==1.0.2.*->azureml-sdk[explain]) (1.0.2)\n",
      "Requirement not upgraded as not directly required: azureml-train-restclients-hyperdrive==1.0.2.* in /data/anaconda/envs/py36/lib/python3.6/site-packages (from azureml-train-core==1.0.2.*->azureml-train==1.0.2.*->azureml-sdk[explain]) (1.0.2)\n",
      "Requirement not upgraded as not directly required: matplotlib in /data/anaconda/envs/py36/lib/python3.6/site-packages (from shap<=0.25.2,>=0.20.0->azureml-explain-model==1.0.2.*; extra == \"explain\"->azureml-sdk[explain]) (2.2.3)\n",
      "Requirement not upgraded as not directly required: scikit-learn in /data/anaconda/envs/py36/lib/python3.6/site-packages (from shap<=0.25.2,>=0.20.0->azureml-explain-model==1.0.2.*; extra == \"explain\"->azureml-sdk[explain]) (0.19.1)\n",
      "Requirement not upgraded as not directly required: tqdm in /data/anaconda/envs/py36/lib/python3.6/site-packages (from shap<=0.25.2,>=0.20.0->azureml-explain-model==1.0.2.*; extra == \"explain\"->azureml-sdk[explain]) (4.25.0)\n",
      "Requirement not upgraded as not directly required: ipython in /data/anaconda/envs/py36/lib/python3.6/site-packages (from shap<=0.25.2,>=0.20.0->azureml-explain-model==1.0.2.*; extra == \"explain\"->azureml-sdk[explain]) (6.5.0)\n",
      "Requirement not upgraded as not directly required: scipy in /data/anaconda/envs/py36/lib/python3.6/site-packages (from shap<=0.25.2,>=0.20.0->azureml-explain-model==1.0.2.*; extra == \"explain\"->azureml-sdk[explain]) (1.1.0)\n",
      "Requirement not upgraded as not directly required: pynacl>=1.0.1 in /data/anaconda/envs/py36/lib/python3.6/site-packages (from paramiko>=2.0.8->azure-cli-core>=2.0.38->azureml-core==1.0.2.*->azureml-sdk[explain]) (1.2.1)\n",
      "Requirement not upgraded as not directly required: bcrypt>=3.1.3 in /data/anaconda/envs/py36/lib/python3.6/site-packages (from paramiko>=2.0.8->azure-cli-core>=2.0.38->azureml-core==1.0.2.*->azureml-sdk[explain]) (3.1.4)\n",
      "Requirement not upgraded as not directly required: portalocker==1.2.1 in /data/anaconda/envs/py36/lib/python3.6/site-packages (from azure-cli-telemetry->azure-cli-core>=2.0.38->azureml-core==1.0.2.*->azureml-sdk[explain]) (1.2.1)\n",
      "Requirement not upgraded as not directly required: applicationinsights>=0.11.1 in /data/anaconda/envs/py36/lib/python3.6/site-packages (from azure-cli-telemetry->azure-cli-core>=2.0.38->azureml-core==1.0.2.*->azureml-sdk[explain]) (0.11.6)\n",
      "Requirement not upgraded as not directly required: oauthlib>=0.6.2 in /data/anaconda/envs/py36/lib/python3.6/site-packages (from requests-oauthlib>=0.5.0->msrest>=0.5.1->azureml-core==1.0.2.*->azureml-sdk[explain]) (2.1.0)\n",
      "Requirement not upgraded as not directly required: pycparser in /data/anaconda/envs/py36/lib/python3.6/site-packages (from cffi!=1.11.3,>=1.7->cryptography!=1.9,!=2.0.*,!=2.1.*,!=2.2.*->azureml-core==1.0.2.*->azureml-sdk[explain]) (2.18)\n",
      "Requirement not upgraded as not directly required: cycler>=0.10 in /data/anaconda/envs/py36/lib/python3.6/site-packages (from matplotlib->shap<=0.25.2,>=0.20.0->azureml-explain-model==1.0.2.*; extra == \"explain\"->azureml-sdk[explain]) (0.10.0)\n",
      "Requirement not upgraded as not directly required: pyparsing!=2.0.4,!=2.1.2,!=2.1.6,>=2.0.1 in /data/anaconda/envs/py36/lib/python3.6/site-packages (from matplotlib->shap<=0.25.2,>=0.20.0->azureml-explain-model==1.0.2.*; extra == \"explain\"->azureml-sdk[explain]) (2.2.0)\n",
      "Requirement not upgraded as not directly required: kiwisolver>=1.0.1 in /data/anaconda/envs/py36/lib/python3.6/site-packages (from matplotlib->shap<=0.25.2,>=0.20.0->azureml-explain-model==1.0.2.*; extra == \"explain\"->azureml-sdk[explain]) (1.0.1)\n",
      "Requirement not upgraded as not directly required: setuptools>=18.5 in /data/anaconda/envs/py36/lib/python3.6/site-packages (from ipython->shap<=0.25.2,>=0.20.0->azureml-explain-model==1.0.2.*; extra == \"explain\"->azureml-sdk[explain]) (39.1.0)\n",
      "Requirement not upgraded as not directly required: pexpect; sys_platform != \"win32\" in /data/anaconda/envs/py36/lib/python3.6/site-packages (from ipython->shap<=0.25.2,>=0.20.0->azureml-explain-model==1.0.2.*; extra == \"explain\"->azureml-sdk[explain]) (4.6.0)\n",
      "Requirement not upgraded as not directly required: backcall in /data/anaconda/envs/py36/lib/python3.6/site-packages (from ipython->shap<=0.25.2,>=0.20.0->azureml-explain-model==1.0.2.*; extra == \"explain\"->azureml-sdk[explain]) (0.1.0)\n",
      "Requirement not upgraded as not directly required: traitlets>=4.2 in /data/anaconda/envs/py36/lib/python3.6/site-packages (from ipython->shap<=0.25.2,>=0.20.0->azureml-explain-model==1.0.2.*; extra == \"explain\"->azureml-sdk[explain]) (4.3.2)\n"
     ]
    },
    {
     "name": "stdout",
     "output_type": "stream",
     "text": [
      "Requirement not upgraded as not directly required: decorator in /data/anaconda/envs/py36/lib/python3.6/site-packages (from ipython->shap<=0.25.2,>=0.20.0->azureml-explain-model==1.0.2.*; extra == \"explain\"->azureml-sdk[explain]) (4.3.0)\n",
      "Requirement not upgraded as not directly required: pickleshare in /data/anaconda/envs/py36/lib/python3.6/site-packages (from ipython->shap<=0.25.2,>=0.20.0->azureml-explain-model==1.0.2.*; extra == \"explain\"->azureml-sdk[explain]) (0.7.4)\n",
      "Requirement not upgraded as not directly required: simplegeneric>0.8 in /data/anaconda/envs/py36/lib/python3.6/site-packages (from ipython->shap<=0.25.2,>=0.20.0->azureml-explain-model==1.0.2.*; extra == \"explain\"->azureml-sdk[explain]) (0.8.1)\n",
      "Requirement not upgraded as not directly required: prompt-toolkit<2.0.0,>=1.0.15 in /data/anaconda/envs/py36/lib/python3.6/site-packages (from ipython->shap<=0.25.2,>=0.20.0->azureml-explain-model==1.0.2.*; extra == \"explain\"->azureml-sdk[explain]) (1.0.15)\n",
      "Requirement not upgraded as not directly required: jedi>=0.10 in /data/anaconda/envs/py36/lib/python3.6/site-packages (from ipython->shap<=0.25.2,>=0.20.0->azureml-explain-model==1.0.2.*; extra == \"explain\"->azureml-sdk[explain]) (0.12.1)\n",
      "Requirement not upgraded as not directly required: ptyprocess>=0.5 in /data/anaconda/envs/py36/lib/python3.6/site-packages (from pexpect; sys_platform != \"win32\"->ipython->shap<=0.25.2,>=0.20.0->azureml-explain-model==1.0.2.*; extra == \"explain\"->azureml-sdk[explain]) (0.6.0)\n",
      "Requirement not upgraded as not directly required: ipython_genutils in /data/anaconda/envs/py36/lib/python3.6/site-packages (from traitlets>=4.2->ipython->shap<=0.25.2,>=0.20.0->azureml-explain-model==1.0.2.*; extra == \"explain\"->azureml-sdk[explain]) (0.2.0)\n",
      "Requirement not upgraded as not directly required: wcwidth in /data/anaconda/envs/py36/lib/python3.6/site-packages (from prompt-toolkit<2.0.0,>=1.0.15->ipython->shap<=0.25.2,>=0.20.0->azureml-explain-model==1.0.2.*; extra == \"explain\"->azureml-sdk[explain]) (0.1.7)\n",
      "Requirement not upgraded as not directly required: parso>=0.3.0 in /data/anaconda/envs/py36/lib/python3.6/site-packages (from jedi>=0.10->ipython->shap<=0.25.2,>=0.20.0->azureml-explain-model==1.0.2.*; extra == \"explain\"->azureml-sdk[explain]) (0.3.1)\n",
      "\u001b[31mtwisted 18.7.0 requires PyHamcrest>=1.9.0, which is not installed.\u001b[0m\n",
      "\u001b[31mtensorflow-gpu 1.10.1 has requirement tensorboard<1.11.0,>=1.10.0, but you'll have tensorboard 1.12.1 which is incompatible.\u001b[0m\n",
      "\u001b[31mazureml-train-widgets 0.1.56 has requirement azureml-core==0.1.56, but you'll have azureml-core 1.0.2 which is incompatible.\u001b[0m\n",
      "\u001b[31mazureml-train-widgets 0.1.56 has requirement azureml-train-core==0.1.56, but you'll have azureml-train-core 1.0.2 which is incompatible.\u001b[0m\n",
      "\u001b[31mazureml-contrib-tensorboard 0.1.56 has requirement azureml-core==0.1.56, but you'll have azureml-core 1.0.2 which is incompatible.\u001b[0m\n",
      "\u001b[31mazureml-contrib-server 0.1.56 has requirement azureml-core==0.1.56, but you'll have azureml-core 1.0.2 which is incompatible.\u001b[0m\n",
      "\u001b[31mazureml-contrib-run 0.1.56 has requirement azureml-core==0.1.56, but you'll have azureml-core 1.0.2 which is incompatible.\u001b[0m\n",
      "\u001b[31mazureml-contrib-brainwave 0.1.56 has requirement azureml-core==0.1.56, but you'll have azureml-core 1.0.2 which is incompatible.\u001b[0m\n",
      "\u001b[33mYou are using pip version 10.0.1, however version 18.1 is available.\n",
      "You should consider upgrading via the 'pip install --upgrade pip' command.\u001b[0m\n"
     ]
    }
   ],
   "source": [
    "!/anaconda/envs/py36/bin/pip install --upgrade azureml-sdk[explain]"
   ]
  },
  {
   "cell_type": "code",
   "execution_count": 9,
   "metadata": {},
   "outputs": [],
   "source": [
    "import azureml.core\n",
    "import logging\n",
    "import os\n",
    "import random\n",
    "import numpy as np\n",
    "import pandas as pd\n",
    "import time\n",
    "\n",
    "from matplotlib import pyplot as plt\n",
    "from matplotlib.pyplot import imshow\n",
    "from sklearn import datasets\n",
    "from azureml.core.experiment import Experiment\n",
    "from azureml.core.workspace import Workspace\n",
    "from azureml.train.automl import AutoMLConfig\n",
    "from azureml.train.automl.run import AutoMLRun"
   ]
  },
  {
   "cell_type": "markdown",
   "metadata": {},
   "source": [
    "### <font color=\"red\">Action Required</font>\n",
    "\n",
    "<font color=\"red\"> Replace \"subscription_guid\" with your Azure Subscription. \"resource_group\", \"workspace_region\", and \"workspace_name\" with the values that you would like for this automl experiment. Make sure you remove the angle brackets. The values should be inside the quotes. </font>\n",
    "* Supported regions include `eastus2`, `eastus`,`westcentralus`, `southeastasia`, `westeurope`, `australiaeast`, `westus2`, `southcentralus`"
   ]
  },
  {
   "cell_type": "code",
   "execution_count": 10,
   "metadata": {},
   "outputs": [],
   "source": [
    "#Update your with your subscription, resrouce group, workspace region and workspace name.\n",
    "subscription_id = \"1bf784f2-dfbf-465a-83e8-2058cdfe5e3b\"\n",
    "resource_group = \"AutoMLTutorial\"\n",
    "workspace_region = \"westus2\"\n",
    "workspace_name = \"EnergyDemandForecasting\""
   ]
  },
  {
   "cell_type": "markdown",
   "metadata": {},
   "source": [
    "## Creating a Workspace\n",
    "If you already have access to an Azure ML workspace you want to use, you can skip this cell.  Otherwise, this cell will create an Azure ML workspace for you in the specified subscription, provided you have the correct permissions for the given `subscription_id`.\n",
    "\n",
    "This will fail when:\n",
    "1. The workspace already exists.\n",
    "2. You do not have permission to create a workspace in the resource group.\n",
    "3. You are not a subscription owner or contributor and no Azure ML workspaces have ever been created in this subscription.\n",
    "\n",
    "If workspace creation fails for any reason other than already existing, please work with your IT administrator to provide you with the appropriate permissions or to provision the required resources.\n",
    "\n",
    "**Note:** Creation of a new workspace can take several minutes."
   ]
  },
  {
   "cell_type": "code",
   "execution_count": 6,
   "metadata": {},
   "outputs": [
    {
     "data": {
      "text/plain": [
       "{'id': '/subscriptions/1bf784f2-dfbf-465a-83e8-2058cdfe5e3b/resourceGroups/AutoMLTutorial/providers/Microsoft.MachineLearningServices/workspaces/EnergyDemandForecasting',\n",
       " 'name': 'EnergyDemandForecasting',\n",
       " 'location': 'westus2',\n",
       " 'type': 'Microsoft.MachineLearningServices/workspaces',\n",
       " 'workspaceid': '49dfec23-2e2e-476a-bd86-300bbf3482b1',\n",
       " 'description': '',\n",
       " 'friendlyName': 'EnergyDemandForecasting',\n",
       " 'creationTime': '2018-12-15T17:17:09.3731254+00:00',\n",
       " 'containerRegistry': '/subscriptions/1bf784f2-dfbf-465a-83e8-2058cdfe5e3b/resourcegroups/automltutorial/providers/microsoft.containerregistry/registries/energydeacruuaoybhu',\n",
       " 'keyVault': '/subscriptions/1bf784f2-dfbf-465a-83e8-2058cdfe5e3b/resourcegroups/automltutorial/providers/microsoft.keyvault/vaults/energydekeyvaultdfoenjzf',\n",
       " 'applicationInsights': '/subscriptions/1bf784f2-dfbf-465a-83e8-2058cdfe5e3b/resourcegroups/automltutorial/providers/microsoft.insights/components/energydeinsightszzcthgah',\n",
       " 'identityPrincipalId': 'fa3d1695-17f3-4fa0-96b1-50762e1f2c18',\n",
       " 'identityTenantId': '6b013d37-09b4-4543-92a4-fad7f3b48be5',\n",
       " 'identityType': 'SystemAssigned',\n",
       " 'storageAccount': '/subscriptions/1bf784f2-dfbf-465a-83e8-2058cdfe5e3b/resourcegroups/automltutorial/providers/microsoft.storage/storageaccounts/energydestoragentimcvog'}"
      ]
     },
     "execution_count": 6,
     "metadata": {},
     "output_type": "execute_result"
    }
   ],
   "source": [
    "# Import the Workspace class and check the Azure ML SDK version.\n",
    "from azureml.core import Workspace\n",
    "\n",
    "ws = Workspace.create(name = workspace_name,\n",
    "                      subscription_id = subscription_id,\n",
    "                      resource_group = resource_group, \n",
    "                      location = workspace_region)\n",
    "ws.get_details()"
   ]
  },
  {
   "cell_type": "markdown",
   "metadata": {},
   "source": [
    "### <font color=\"red\"> Action Required\n",
    "    \n",
    "<font color=\"red\"> Executing next cell will ask you to go to a url to authenticate. Follow the instructions and copy and paste the code given. \n",
    "<p> Ensure to delete any white space after pasting the code. Once the authentication is successful, you will see a message that says Interactive authentication successfully completed and you can close the tab. \n",
    "<p> In this step you are logging into the Azure subscription using your credentials </font>"
   ]
  },
  {
   "cell_type": "code",
   "execution_count": 11,
   "metadata": {},
   "outputs": [
    {
     "name": "stdout",
     "output_type": "stream",
     "text": [
      "Performing interactive authentication. Please follow the instructions on the terminal.\n"
     ]
    },
    {
     "name": "stderr",
     "output_type": "stream",
     "text": [
      "To sign in, use a web browser to open the page https://microsoft.com/devicelogin and enter the code BY978NCFY to authenticate.\n"
     ]
    },
    {
     "name": "stdout",
     "output_type": "stream",
     "text": [
      "Interactive authentication successfully completed.\n"
     ]
    }
   ],
   "source": [
    "ws = Workspace(workspace_name = workspace_name,\n",
    "               subscription_id = subscription_id,\n",
    "               resource_group = resource_group)"
   ]
  },
  {
   "cell_type": "code",
   "execution_count": 12,
   "metadata": {},
   "outputs": [
    {
     "data": {
      "text/html": [
       "<div>\n",
       "<style scoped>\n",
       "    .dataframe tbody tr th:only-of-type {\n",
       "        vertical-align: middle;\n",
       "    }\n",
       "\n",
       "    .dataframe tbody tr th {\n",
       "        vertical-align: top;\n",
       "    }\n",
       "\n",
       "    .dataframe thead th {\n",
       "        text-align: right;\n",
       "    }\n",
       "</style>\n",
       "<table border=\"1\" class=\"dataframe\">\n",
       "  <thead>\n",
       "    <tr style=\"text-align: right;\">\n",
       "      <th></th>\n",
       "      <th></th>\n",
       "    </tr>\n",
       "  </thead>\n",
       "  <tbody>\n",
       "    <tr>\n",
       "      <th>SDK version</th>\n",
       "      <td>1.0.2</td>\n",
       "    </tr>\n",
       "    <tr>\n",
       "      <th>Subscription ID</th>\n",
       "      <td>1bf784f2-dfbf-465a-83e8-2058cdfe5e3b</td>\n",
       "    </tr>\n",
       "    <tr>\n",
       "      <th>Workspace Name</th>\n",
       "      <td>EnergyDemandForecasting</td>\n",
       "    </tr>\n",
       "    <tr>\n",
       "      <th>Resource Group</th>\n",
       "      <td>AutoMLTutorial</td>\n",
       "    </tr>\n",
       "    <tr>\n",
       "      <th>Location</th>\n",
       "      <td>westus2</td>\n",
       "    </tr>\n",
       "    <tr>\n",
       "      <th>Project Directory</th>\n",
       "      <td>./sample_projects/automl-energydemandforecasting</td>\n",
       "    </tr>\n",
       "    <tr>\n",
       "      <th>Experiment Name</th>\n",
       "      <td>AutoML_GlobalAI</td>\n",
       "    </tr>\n",
       "  </tbody>\n",
       "</table>\n",
       "</div>"
      ],
      "text/plain": [
       "                                                                   \n",
       "SDK version        1.0.2                                           \n",
       "Subscription ID    1bf784f2-dfbf-465a-83e8-2058cdfe5e3b            \n",
       "Workspace Name     EnergyDemandForecasting                         \n",
       "Resource Group     AutoMLTutorial                                  \n",
       "Location           westus2                                         \n",
       "Project Directory  ./sample_projects/automl-energydemandforecasting\n",
       "Experiment Name    AutoML_GlobalAI                                 "
      ]
     },
     "execution_count": 12,
     "metadata": {},
     "output_type": "execute_result"
    }
   ],
   "source": [
    "# choose a name for the run history container in the workspace\n",
    "experiment_name = 'AutoML_GlobalAI'\n",
    "\n",
    "# project folder\n",
    "project_folder = './sample_projects/automl-energydemandforecasting'\n",
    "\n",
    "experiment=Experiment(ws, experiment_name)\n",
    "\n",
    "output = {}\n",
    "output['SDK version'] = azureml.core.VERSION\n",
    "output['Subscription ID'] = ws.subscription_id\n",
    "output['Workspace Name'] = ws.name\n",
    "output['Resource Group'] = ws.resource_group\n",
    "output['Location'] = ws.location\n",
    "output['Project Directory'] = project_folder\n",
    "output['Experiment Name'] = experiment.name\n",
    "pd.set_option('display.max_colwidth', -1)\n",
    "pd.DataFrame(data = output, index = ['']).T"
   ]
  },
  {
   "cell_type": "markdown",
   "metadata": {},
   "source": [
    "# Section 1\n",
    "In this section\n",
    "Read and Inspect the dataset\n",
    "and prepare the data for training"
   ]
  },
  {
   "cell_type": "markdown",
   "metadata": {},
   "source": [
    "## 1.1 Read the data\n",
    "\n",
    "Data is in a csv file in blob storage.\n",
    "Two datasets are provided with this sample nyc_demand.csv and nyc_weather.csv.\n",
    "\n",
    ">* nyc_demand.csv contains hourly energy demand values for New York City for the years 2012-2017. The data has timestamp and energy demand in megawatt-hours\n",
    ">* nyc_weather.csv contains hourly weather values (nyc_weather.csv contains hourly weather values) for New York City over the same years 2012-2017.\n",
    "\n",
    "The two datasets are joined and read into a pandas dataframe. Pandas is a popular dataframe extensively used by scikit-learn users"
   ]
  },
  {
   "cell_type": "code",
   "execution_count": 13,
   "metadata": {},
   "outputs": [],
   "source": [
    "import pandas as pd\n",
    "from sklearn.model_selection import train_test_split\n",
    "from sklearn.preprocessing import LabelEncoder\n",
    "    \n",
    "demand = pd.read_csv(\"https://antaignitedata.blob.core.windows.net/antaignitedata/nyc_demand.csv\", parse_dates=['timeStamp'])\n",
    "weather = pd.read_csv(\"https://antaignitedata.blob.core.windows.net/antaignitedata/nyc_weather.csv\", parse_dates=['timeStamp'])\n",
    "df = pd.merge(demand, weather, on=['timeStamp'], how='outer')\n"
   ]
  },
  {
   "cell_type": "markdown",
   "metadata": {},
   "source": [
    "## 1.2 Inspect data\n",
    "Display the first few rows of the data"
   ]
  },
  {
   "cell_type": "code",
   "execution_count": 14,
   "metadata": {
    "scrolled": true
   },
   "outputs": [
    {
     "data": {
      "text/html": [
       "<div>\n",
       "<style scoped>\n",
       "    .dataframe tbody tr th:only-of-type {\n",
       "        vertical-align: middle;\n",
       "    }\n",
       "\n",
       "    .dataframe tbody tr th {\n",
       "        vertical-align: top;\n",
       "    }\n",
       "\n",
       "    .dataframe thead th {\n",
       "        text-align: right;\n",
       "    }\n",
       "</style>\n",
       "<table border=\"1\" class=\"dataframe\">\n",
       "  <thead>\n",
       "    <tr style=\"text-align: right;\">\n",
       "      <th></th>\n",
       "      <th>timeStamp</th>\n",
       "      <th>demand</th>\n",
       "      <th>precip</th>\n",
       "      <th>temp</th>\n",
       "    </tr>\n",
       "  </thead>\n",
       "  <tbody>\n",
       "    <tr>\n",
       "      <th>0</th>\n",
       "      <td>2012-01-01 00:00:00</td>\n",
       "      <td>4937.5</td>\n",
       "      <td>0.0</td>\n",
       "      <td>46.13</td>\n",
       "    </tr>\n",
       "    <tr>\n",
       "      <th>1</th>\n",
       "      <td>2012-01-01 01:00:00</td>\n",
       "      <td>4752.1</td>\n",
       "      <td>0.0</td>\n",
       "      <td>45.89</td>\n",
       "    </tr>\n",
       "    <tr>\n",
       "      <th>2</th>\n",
       "      <td>2012-01-01 02:00:00</td>\n",
       "      <td>4542.6</td>\n",
       "      <td>0.0</td>\n",
       "      <td>45.04</td>\n",
       "    </tr>\n",
       "    <tr>\n",
       "      <th>3</th>\n",
       "      <td>2012-01-01 03:00:00</td>\n",
       "      <td>4357.7</td>\n",
       "      <td>0.0</td>\n",
       "      <td>45.03</td>\n",
       "    </tr>\n",
       "    <tr>\n",
       "      <th>4</th>\n",
       "      <td>2012-01-01 04:00:00</td>\n",
       "      <td>4275.5</td>\n",
       "      <td>0.0</td>\n",
       "      <td>42.61</td>\n",
       "    </tr>\n",
       "  </tbody>\n",
       "</table>\n",
       "</div>"
      ],
      "text/plain": [
       "            timeStamp  demand  precip   temp\n",
       "0 2012-01-01 00:00:00  4937.5  0.0     46.13\n",
       "1 2012-01-01 01:00:00  4752.1  0.0     45.89\n",
       "2 2012-01-01 02:00:00  4542.6  0.0     45.04\n",
       "3 2012-01-01 03:00:00  4357.7  0.0     45.03\n",
       "4 2012-01-01 04:00:00  4275.5  0.0     42.61"
      ]
     },
     "execution_count": 14,
     "metadata": {},
     "output_type": "execute_result"
    }
   ],
   "source": [
    "df.head()"
   ]
  },
  {
   "cell_type": "code",
   "execution_count": 15,
   "metadata": {},
   "outputs": [
    {
     "data": {
      "image/png": "[encoded data removed]",
      "text/plain": [
       "<Figure size 432x288 with 1 Axes>"
      ]
     },
     "metadata": {
      "needs_background": "light"
     },
     "output_type": "display_data"
    }
   ],
   "source": [
    "plt_df = demand.loc[(demand.timeStamp>'2016-07-01') & (demand.timeStamp<='2016-07-07')]\n",
    "plt.plot(plt_df['timeStamp'], plt_df['demand'])\n",
    "plt.title('New York City power demand over one week in July 2017')\n",
    "plt.xticks(rotation=45)\n",
    "plt.show()"
   ]
  },
  {
   "cell_type": "code",
   "execution_count": 16,
   "metadata": {},
   "outputs": [
    {
     "data": {
      "image/png": "[encoded data removed]",
      "text/plain": [
       "<Figure size 432x288 with 1 Axes>"
      ]
     },
     "metadata": {
      "needs_background": "light"
     },
     "output_type": "display_data"
    }
   ],
   "source": [
    "plt_df = demand.copy().loc[(demand['timeStamp']>='2016-01-01') & (demand['timeStamp']<'2017-01-01'), ]\n",
    "plt.plot(plt_df['timeStamp'], plt_df['demand'], markersize=1)\n",
    "plt.title('Hourly demand in 2016')\n",
    "plt.ylabel('demand')\n",
    "plt.xticks(rotation=45)\n",
    "plt.show()"
   ]
  },
  {
   "cell_type": "markdown",
   "metadata": {},
   "source": [
    "## 1.3 Set validation and test data aside"
   ]
  },
  {
   "cell_type": "code",
   "execution_count": 17,
   "metadata": {},
   "outputs": [],
   "source": [
    "# We are setting aside data that is newer than 2017 August 1st as test data set. All the data that is older than 2017 August 1st is the training data\n",
    "\n",
    "train, test = (df.loc[df['timeStamp']<'2016-07-01'], df.loc[df['timeStamp']>='2016-07-01'])\n",
    "\n",
    "#Data that was read into the dataframe has the features and label (the column that you are trying to predict). \n",
    "#Moving the label column into its own vector y\n",
    "X = train.drop(['demand'], axis=1)\n",
    "y = train['demand'].values\n",
    "\n",
    "\n",
    "#Set aside some validation dataset within the train dataset above. \n",
    "#With Timeseries data, typically validatation dataset is specific period\n",
    "split_index = int(X.shape[0] * 0.9)\n",
    "X_train = X[0:split_index]\n",
    "y_train = y[0:split_index]\n",
    "X_validation = X[split_index+1:]\n",
    "y_validation = y[split_index+1:]\n"
   ]
  },
  {
   "cell_type": "code",
   "execution_count": 18,
   "metadata": {},
   "outputs": [
    {
     "data": {
      "text/html": [
       "<div>\n",
       "<style scoped>\n",
       "    .dataframe tbody tr th:only-of-type {\n",
       "        vertical-align: middle;\n",
       "    }\n",
       "\n",
       "    .dataframe tbody tr th {\n",
       "        vertical-align: top;\n",
       "    }\n",
       "\n",
       "    .dataframe thead th {\n",
       "        text-align: right;\n",
       "    }\n",
       "</style>\n",
       "<table border=\"1\" class=\"dataframe\">\n",
       "  <thead>\n",
       "    <tr style=\"text-align: right;\">\n",
       "      <th></th>\n",
       "      <th>timeStamp</th>\n",
       "      <th>precip</th>\n",
       "      <th>temp</th>\n",
       "    </tr>\n",
       "  </thead>\n",
       "  <tbody>\n",
       "    <tr>\n",
       "      <th>0</th>\n",
       "      <td>2012-01-01 00:00:00</td>\n",
       "      <td>0.0</td>\n",
       "      <td>46.13</td>\n",
       "    </tr>\n",
       "    <tr>\n",
       "      <th>1</th>\n",
       "      <td>2012-01-01 01:00:00</td>\n",
       "      <td>0.0</td>\n",
       "      <td>45.89</td>\n",
       "    </tr>\n",
       "    <tr>\n",
       "      <th>2</th>\n",
       "      <td>2012-01-01 02:00:00</td>\n",
       "      <td>0.0</td>\n",
       "      <td>45.04</td>\n",
       "    </tr>\n",
       "    <tr>\n",
       "      <th>3</th>\n",
       "      <td>2012-01-01 03:00:00</td>\n",
       "      <td>0.0</td>\n",
       "      <td>45.03</td>\n",
       "    </tr>\n",
       "    <tr>\n",
       "      <th>4</th>\n",
       "      <td>2012-01-01 04:00:00</td>\n",
       "      <td>0.0</td>\n",
       "      <td>42.61</td>\n",
       "    </tr>\n",
       "  </tbody>\n",
       "</table>\n",
       "</div>"
      ],
      "text/plain": [
       "            timeStamp  precip   temp\n",
       "0 2012-01-01 00:00:00  0.0     46.13\n",
       "1 2012-01-01 01:00:00  0.0     45.89\n",
       "2 2012-01-01 02:00:00  0.0     45.04\n",
       "3 2012-01-01 03:00:00  0.0     45.03\n",
       "4 2012-01-01 04:00:00  0.0     42.61"
      ]
     },
     "execution_count": 18,
     "metadata": {},
     "output_type": "execute_result"
    }
   ],
   "source": [
    "X.head()"
   ]
  },
  {
   "cell_type": "code",
   "execution_count": 19,
   "metadata": {},
   "outputs": [
    {
     "data": {
      "text/plain": [
       "array([4937.5, 4752.1, 4542.6, ...,    nan,    nan,    nan])"
      ]
     },
     "execution_count": 19,
     "metadata": {},
     "output_type": "execute_result"
    }
   ],
   "source": [
    "y"
   ]
  },
  {
   "cell_type": "markdown",
   "metadata": {},
   "source": [
    "### Section 1 Recap\n",
    "In the section above, you read the data and prepared the training vector, label vector and validation data"
   ]
  },
  {
   "cell_type": "markdown",
   "metadata": {},
   "source": [
    "# Section 2\n",
    "In this section\n",
    "You will configure automated ML and run automated ML Experiment which will generate Machine Learning Models. The training jobs are run on VMs provided and managed by Azure Notebooks."
   ]
  },
  {
   "cell_type": "markdown",
   "metadata": {},
   "source": [
    "## 2.1 - Configure automated ML\n",
    "\n",
    "AutoMLConfig has many levers that you can use to configure automated ML. Key ones to look for primary_metric, iterations."
   ]
  },
  {
   "cell_type": "markdown",
   "metadata": {},
   "source": [
    "### <font color=\"red\"> Action Required </font> \n",
    "<font color=\"red\"> automated ML comes with many levers that you can use to configure. This is to give you flexibility and control.\n",
    "<p>\n",
    "For example primary_metric is the metric that automated ML use to optimize the machine leanring model it is building. Automated ML supports several different primary_metrics. We will be using for <primary_metric>  <b> normalized_root_mean_squared_error </b> for this regression task. \n",
    "</font>\n",
    "<p>\n",
    "To find out more about all the configuration settings refer to the configure your automated machine learning experiment Azure documentation https://docs.microsoft.com/en-us/azure/machine-learning/service/how-to-configure-auto-train\n",
    "<p>\n",
    "Notice that the task is set to regression. We are also passing the training dataset and validation dataset (X_train, y-train, X_validation, y_validation that we prepared in section 1.3"
   ]
  },
  {
   "cell_type": "code",
   "execution_count": 16,
   "metadata": {},
   "outputs": [],
   "source": [
    "automl_config_local = AutoMLConfig(task = 'regression',\n",
    "                             debug_log = 'automl_errors.log',\n",
    "                             primary_metric = 'normalized_root_mean_squared_error',\n",
    "                             experiment_timeout_minutes = 30,\n",
    "                             iterations = 5,\n",
    "                             verbosity = logging.INFO,\n",
    "                             X = X_train, \n",
    "                             y = y_train,\n",
    "                             X_valid = X_validation,\n",
    "                             y_valid = y_validation,\n",
    "                             preprocess = True,\n",
    "                             path=project_folder)"
   ]
  },
  {
   "cell_type": "markdown",
   "metadata": {},
   "source": [
    "### Section 2.2 Training the Model on Azure Notebooks\n",
    "\n",
    "You can call the submit method on the experiment object and pass the AutoMLConfig object you instantiated above. \n",
    "<P>\n",
    "Submit generates the machine learning models equivalent to the iterations you set (In this case two different models). \n",
    "For Local runs the execution is synchronous. Depending on the data and number of iterations this can run for while. \n",
    "    \n",
    "<p> For this data, this takes about 2 minutes to complete the iterations. Given Azure Notebooks is a multi-tenant service with so many users running at the same time, today you might see a little degradation in performance and completion could take a little longer.\n",
    "\n",
    "You will see the currently running iterations printing to the console."
   ]
  },
  {
   "cell_type": "code",
   "execution_count": 17,
   "metadata": {},
   "outputs": [
    {
     "name": "stdout",
     "output_type": "stream",
     "text": [
      "Parent Run ID: AutoML_964b68a9-0452-445c-a07f-c937b2ad0280\n",
      "*******************************************************************************************\n",
      "ITERATION: The iteration being evaluated.\n",
      "PIPELINE: A summary description of the pipeline being evaluated.\n",
      "DURATION: Time taken for the current iteration.\n",
      "METRIC: The result of computing score on the fitted pipeline.\n",
      "BEST: The best observed score thus far.\n",
      "*******************************************************************************************\n",
      "\n",
      " ITERATION   PIPELINE                                       DURATION      METRIC      BEST\n",
      "         0   StandardScalerWrapper DecisionTree             0:00:11       0.0635    0.0635\n",
      "         1   StandardScalerWrapper ElasticNet               0:00:11       0.1071    0.0635\n",
      "         2   MaxAbsScaler LightGBM                          0:00:10       0.0302    0.0302\n",
      "         3   StandardScalerWrapper RandomForest             0:00:12       0.0581    0.0302\n",
      "         4    Ensemble                                      0:00:17       0.0302    0.0302\n"
     ]
    }
   ],
   "source": [
    "local_run = experiment.submit(automl_config_local, show_output=True)"
   ]
  },
  {
   "cell_type": "markdown",
   "metadata": {},
   "source": [
    "## Retrieve the Best Model\n",
    "Below we select the best pipeline from our iterations. The get_output method on automl_classifier returns the best run and the fitted model for the last fit invocation. There are overloads on get_output that allow you to retrieve the best run and fitted model for any logged metric or a particular iteration."
   ]
  },
  {
   "cell_type": "code",
   "execution_count": 18,
   "metadata": {},
   "outputs": [
    {
     "name": "stdout",
     "output_type": "stream",
     "text": [
      "Run(Experiment: AutoML_GlobalAI,\n",
      "Id: AutoML_964b68a9-0452-445c-a07f-c937b2ad0280_4,\n",
      "Type: None,\n",
      "Status: Completed)\n",
      "Pipeline(memory=None,\n",
      "     steps=[('datatransformer', DataTransformer(logger=None, task=None)), ('prefittedsoftvotingregressor', PreFittedSoftVotingRegressor(estimators=[('LightGBM', Pipeline(memory=None,\n",
      "     steps=[('maxabsscaler', MaxAbsScaler(copy=True)), ('lightgbmregressor', <automl.client.core.common.model_wrappers.LightGBMRegressor object at 0x7fe178f254e0>)]))],\n",
      "               flatten_transform=None, weights=[1.0]))])\n"
     ]
    }
   ],
   "source": [
    "best_run, fitted_model = local_run.get_output()\n",
    "print(best_run)\n",
    "print(fitted_model)"
   ]
  },
  {
   "cell_type": "markdown",
   "metadata": {},
   "source": [
    "## Best Model 's explanation\n",
    "Retrieve the explanation from the best_run. And explanation information includes:\n",
    "1. shap_values: The explanation information generated by shap lib\n",
    "2. expected_values: The expected value of the model applied to set of X_train data.\n",
    "3. overall_summary: The model level feature importance values sorted in descending order\n",
    "4. overall_imp: The feature names sorted in the same order as in overall_summary\n",
    "5. per_class_summary: The class level feature importance values sorted in descending order. Only available for the classification case\n",
    "6. per_class_imp: The feature names sorted in the same order as in per_class_summary. Only available for the classification case"
   ]
  },
  {
   "cell_type": "code",
   "execution_count": null,
   "metadata": {},
   "outputs": [],
   "source": [
    "from azureml.train.automl.automlexplainer import explain_model\n",
    "\n",
    "shap_values, expected_values, overall_summary, overall_imp, per_class_summary, per_class_imp = \\\n",
    "    explain_model(fitted_model, X_train, X_validation)\n",
    "\n",
    "print(overall_summary)\n",
    "print(overall_imp)"
   ]
  },
  {
   "cell_type": "markdown",
   "metadata": {},
   "source": [
    "### Section 2 Recap\n",
    "In the section above, you configured automated ML object and ran automated ML Experiment locally on Azure Notebooks which built two ML models. With this section you have successfully completed building your Machine Learning model using automated ML."
   ]
  },
  {
   "cell_type": "markdown",
   "metadata": {},
   "source": [
    "# Section 3\n",
    "We have built a couple of models using Azure Notebooks. Now, lets scale to Cloud. In order to run automated ML training jobs in the cloud, we need to prepare the data similar to what we have done in section 1. However, you write the data preparation in a script and write the script to a file. This enables automated ML to upload the script file to the cloud machine and execute in the cloud eliminating the need to transfer the data for every iteration."
   ]
  },
  {
   "cell_type": "markdown",
   "metadata": {},
   "source": [
    "## 3.1 Define Get Data function and write it to a file\n",
    "When running on Azure cloud, A get_data function needs to be defined for your data fetch. This function is written to a file called get_data.py. This file gets copied to the BatchAI cluster VMs and gets executed on the VM. The *get_data()* function returns a [dictionary](README.md#getdata)."
   ]
  },
  {
   "cell_type": "code",
   "execution_count": 19,
   "metadata": {},
   "outputs": [
    {
     "name": "stdout",
     "output_type": "stream",
     "text": [
      "Overwriting ./sample_projects/automl-energydemandforecasting/get_data.py\n"
     ]
    }
   ],
   "source": [
    "%%writefile $project_folder/get_data.py\n",
    "\n",
    "import pandas as pd\n",
    "from sklearn.model_selection import train_test_split\n",
    "from sklearn.preprocessing import LabelEncoder\n",
    "import numpy as np\n",
    "\n",
    "def get_data():\n",
    "    \n",
    "    demand = pd.read_csv(\"https://antaignitedata.blob.core.windows.net/antaignitedata/nyc_demand.csv\", parse_dates=['timeStamp'])\n",
    "    weather = pd.read_csv(\"https://antaignitedata.blob.core.windows.net/antaignitedata/nyc_weather.csv\", parse_dates=['timeStamp'])\n",
    "    df = pd.merge(demand, weather, on=['timeStamp'], how='outer')\n",
    "\n",
    "#    df = df.dropna(axis=0, how='all', subset = ['demand'])\n",
    "#    df[np.isnan(df.demand)]\n",
    "    \n",
    "    train, test = (df.loc[df['timeStamp']<'2016-07-01'], df.loc[df['timeStamp']>='2016-07-01'])\n",
    "\n",
    "    X = train.drop(['demand'], axis=1)\n",
    "    X.head()\n",
    "    type(X)\n",
    "    y = train['demand']\n",
    "    y = y.values\n",
    "    type(y)\n",
    "    #X = X.values\n",
    "    type(X)\n",
    "    \n",
    "    split_index = int(X.shape[0] * 0.9)\n",
    "    X_train = X[0:split_index]\n",
    "    y_train = y[0:split_index]\n",
    "    X_validation = X[split_index+1:]\n",
    "    y_validation = y[split_index+1:]\n",
    "\n",
    "    return { \"X\" : X_train, \"y\" : y_train, \"X_valid\": X_validation, \"y_valid\" : y_validation }"
   ]
  },
  {
   "cell_type": "markdown",
   "metadata": {},
   "source": [
    "# Section 4\n",
    "In this section, you run the automated ML experiment in Azure Cloud using a data science virtual machine (DSVM). Azure Cloud compute enables you to scale to run lot more iterations.\n",
    "\n",
    "First let's use Data Science Virtual Machine in Azure to run automated ML training jobs\n",
    "\n",
    "You may have noticed the performance metric of the models created above is still very low. Automated ML recommends to run greater than 100 iterations to get a decent model."
   ]
  },
  {
   "cell_type": "markdown",
   "metadata": {},
   "source": [
    "## 4.1 Creating a DSVM or using an existing VM.\n",
    "A data science VM will now be created and provisioned for you. Data Science VM enables you to scale up and run AutoML experiment much faster. <p>This process will take a few minutes."
   ]
  },
  {
   "cell_type": "code",
   "execution_count": 40,
   "metadata": {},
   "outputs": [
    {
     "name": "stdout",
     "output_type": "stream",
     "text": [
      "Found an existing DSVM.\n"
     ]
    }
   ],
   "source": [
    "from azureml.core.compute import DsvmCompute\n",
    "import time \n",
    "\n",
    "dsvm_name = 'MyMLCompute'\n",
    "try:\n",
    "    dsvm_compute = DsvmCompute(ws, dsvm_name)\n",
    "    print('Found an existing DSVM.')\n",
    "except:\n",
    "    print('Creating a new DSVM.')\n",
    "    dsvm_config = DsvmCompute.provisioning_configuration(vm_size = \"Standard_D2_v2\")\n",
    "    dsvm_compute = DsvmCompute.create(ws, name = dsvm_name, provisioning_configuration = dsvm_config)\n",
    "    dsvm_compute.wait_for_completion(show_output = True)\n",
    "    time.sleep(60)"
   ]
  },
  {
   "cell_type": "markdown",
   "metadata": {},
   "source": [
    "## 4.2 Configure AutoMLConfig for DSVM. \n",
    "The differences from the local config are - set compute_target as the DSVM, pass the get_data.py script."
   ]
  },
  {
   "cell_type": "code",
   "execution_count": 22,
   "metadata": {},
   "outputs": [],
   "source": [
    "#DSVM AI AutoML Settings\n",
    "\n",
    "automl_config_dsvm = AutoMLConfig(task = 'regression',\n",
    "                             debug_log = 'automl_errors.log',\n",
    "                             primary_metric = 'normalized_root_mean_squared_error',\n",
    "                             iterations = 3,\n",
    "                             verbosity = logging.INFO,\n",
    "                             path = project_folder,\n",
    "                             compute_target=dsvm_compute,\n",
    "                             data_script = project_folder + \"/get_data.py\"\n",
    "                            )"
   ]
  },
  {
   "cell_type": "markdown",
   "metadata": {},
   "source": [
    "## 4.3 Training the Model on DSVM\n",
    "\n",
    "You can call the submit method on the experiment object. For DSVM the runs execute asynchronously. "
   ]
  },
  {
   "cell_type": "code",
   "execution_count": 23,
   "metadata": {},
   "outputs": [],
   "source": [
    "remote_dsvm_run = experiment.submit(automl_config_dsvm, show_output = False)"
   ]
  },
  {
   "cell_type": "markdown",
   "metadata": {},
   "source": [
    "## 4.4 - Monitor and Inspect the runs"
   ]
  },
  {
   "cell_type": "markdown",
   "metadata": {},
   "source": [
    "#### Widget for monitoring runs\n",
    "\n",
    "Initial run could take a few minutes. Depending on the data and number of iterations this can run for while.\n",
    "You will see the currently running iterations printing in the widget. The widget will sit on \"loading\" until the first iteration completed, then you will see an auto-updating graph and table show up. It refreshed once per minute, so you should see the graph update as child runs complete.\n",
    "\n",
    "NOTE: The widget displays a link at the bottom. Ignore the link for a moment. This links to a web-ui to explore the individual run details."
   ]
  },
  {
   "cell_type": "markdown",
   "metadata": {},
   "source": [
    "### <font color = \"red\"> Action Required </font>\n",
    "<font color = \"red\"> When the widget loads you will notice that the two runs failed. This is expected. Click on any of the failed links under Pipeline column. A pop-up window will open. Notice the second line from the bottom in the popup window.  </font>\n",
    "\n",
    "By the way, the blue bar in the widget might be displaying Waiting for metrics. Ignore that. If you see AttributeError, you can ignore that too (We are running more than a month's old version of SDK on Azure Notebooks and the bug has been fixed in the newer version of SDK)."
   ]
  },
  {
   "cell_type": "code",
   "execution_count": 24,
   "metadata": {},
   "outputs": [
    {
     "data": {
      "application/vnd.jupyter.widget-view+json": {
       "model_id": "e3314fd18ac0486ea694b4609d22360a",
       "version_major": 2,
       "version_minor": 0
      },
      "text/plain": [
       "_AutoMLWidget(widget_settings={'childWidgetDisplay': 'popup', 'send_telemetry': False, 'log_level': 'NOTSET', …"
      ]
     },
     "metadata": {},
     "output_type": "display_data"
    }
   ],
   "source": [
    "from azureml.widgets import RunDetails\n",
    "RunDetails(remote_dsvm_run).show() "
   ]
  },
  {
   "cell_type": "markdown",
   "metadata": {},
   "source": [
    "## 4.5 Training the Model on DSVM with Preprocess\n",
    "\n",
    "Noticed that the experiment failed. This is because the data has missing values. For example let's check the values on row 49175 in the dataframe. Notice that there is \"nan\" in the values. nan stands for 'Not a Number' which basically means the value is missing. Missing values is quite common in real life. For example if you are collecting data from IoT sensors, there could be a period where one of the sensors is broken."
   ]
  },
  {
   "cell_type": "code",
   "execution_count": 25,
   "metadata": {},
   "outputs": [
    {
     "data": {
      "text/plain": [
       "array([Timestamp('2017-08-11 01:00:00'), nan, 0.0, 69.26], dtype=object)"
      ]
     },
     "execution_count": 25,
     "metadata": {},
     "output_type": "execute_result"
    }
   ],
   "source": [
    "df.iloc[49175].values"
   ]
  },
  {
   "cell_type": "markdown",
   "metadata": {},
   "source": [
    "With automated ML's data preprocessing you don't need to worry about missing values. automated ML will replace the missing values. Preprocessing can do lot more than just missing values, including one hot encoding of categorical values.\n",
    "<p> Let's configure AutoMLConfig by setting preprocess to True"
   ]
  },
  {
   "cell_type": "code",
   "execution_count": 41,
   "metadata": {},
   "outputs": [],
   "source": [
    "#DSVM AI AutoML Settings\n",
    "\n",
    "automl_config_dsvm = AutoMLConfig(task = 'regression',\n",
    "                             debug_log = 'automl_errors.log',\n",
    "                             primary_metric = 'normalized_root_mean_squared_error',\n",
    "                             iterations = 150,\n",
    "                             verbosity = logging.INFO,\n",
    "                             preprocess = True,\n",
    "                             path = project_folder,\n",
    "                             compute_target=dsvm_compute,\n",
    "                             data_script = project_folder + \"/get_data.py\"\n",
    "                            )"
   ]
  },
  {
   "cell_type": "markdown",
   "metadata": {},
   "source": [
    "#### Submit automated ML Experiment of 5 runs to be executed on DSVM"
   ]
  },
  {
   "cell_type": "code",
   "execution_count": 42,
   "metadata": {},
   "outputs": [],
   "source": [
    "remote_dsvm_run = experiment.submit(automl_config_dsvm, show_output = False)"
   ]
  },
  {
   "cell_type": "markdown",
   "metadata": {},
   "source": [
    "## 4.6 - Monitor and Inspect the runs"
   ]
  },
  {
   "cell_type": "markdown",
   "metadata": {},
   "source": [
    "### <font color = \"red\"> Action Required </font> \n",
    "<font color = \"red\"> When you execute the cell below, it will render a widget showing the status of all the iterations in a table. The iterations are shown in a leaderboard format with the best performing model being on the top. However you can sort these by clicking on the column heading. If you hover your mouse on any of the pipelines, you will see all the hyper parameters used to build that particular model. If you click on any of the pipelines, a window will popup with a plethora of information including various metrics of the model and a few visual charts. \n",
    "You will also see a step chart showing the metric for each iteration </font>"
   ]
  },
  {
   "cell_type": "code",
   "execution_count": null,
   "metadata": {},
   "outputs": [],
   "source": [
    "from azureml.widgets import RunDetails\n",
    "RunDetails(remote_dsvm_run).show() "
   ]
  },
  {
   "cell_type": "markdown",
   "metadata": {},
   "source": [
    "## 4.7 Continue with a couple of more iterations\n",
    " Lets run two more iterations to see whether there is any improvement in accuracy"
   ]
  },
  {
   "cell_type": "code",
   "execution_count": null,
   "metadata": {
    "scrolled": true
   },
   "outputs": [],
   "source": [
    "remote_dsvm_run.continue_experiment(X = X, y = y, X_valid = X_validation, y_valid = y_validation, iterations=50, show_output=False)"
   ]
  },
  {
   "cell_type": "markdown",
   "metadata": {},
   "source": [
    "### <font color = \"red\">  Action Required \n",
    "<font color = \"red\"> Click on the link that says \"Link to Azure Portal\" in the output of cell above. You will notice that there are a total of 7 runs now (5 original and 2 more with the continue)"
   ]
  },
  {
   "cell_type": "markdown",
   "metadata": {},
   "source": [
    "### Section 4 Recap - \n",
    "\n",
    "You have built a Machine Learning model by running your training jobs on a Data Science Virtual Machine.\n",
    "\n",
    "Automated machine learning also provides an option to run on BatchAI cluster. With BatchAI cluster you can setup a cluster of virtual machines and run iterations in parallel. The cluster is \"managed\" cluster with autoscale functionality. When jobs are completed executing, the VMs get shutdown saving you money. Section 9 shows sample code on how to setup a BatchAI cluster and run on BatchAI. BatchAI is may perform slower than DSVM for the first run."
   ]
  },
  {
   "cell_type": "markdown",
   "metadata": {},
   "source": [
    "\n",
    "# Section 8 - Setting up on your local machine"
   ]
  },
  {
   "cell_type": "markdown",
   "metadata": {},
   "source": [
    "Visit https://github.com/Azure/MachineLearningNotebooks and go to <b> How to use Azureml > Automated Machine Learning </b> folder. Here you file instructions to setup a local python environment. Click on Readme file. Once on the readme file, go to the section that says \"Running samples in a Local conda environment\". Follow the instructions starting with \"1. Install mini-conda form here.......\"\n",
    "\n",
    "The repro contains also many more sample notebooks.\n",
    "\n"
   ]
  },
  {
   "cell_type": "markdown",
   "metadata": {},
   "source": [
    "# Section 9 - Using AML Compute for training\n",
    "In this section, you run the AutoML experiment in Azure Cloud using Managed Compute (BatchAI). Azure Cloud compute enables you to scale to run lot more iterations. You may have noticed the performance metric of the models created above is still very low. AutoML recommends to run greater than 100 iterations to get a decent model."
   ]
  },
  {
   "cell_type": "markdown",
   "metadata": {},
   "source": [
    "## 9.1 Create and provision a AML Compute cluster\n",
    "BatchAI enables you to create a cluster of Virtual Machines that can autoscale. With this you can run AutoML runs in parallel. \n",
    "\n",
    "You will need to create a [compute target](https://docs.microsoft.com/azure/machine-learning/service/concept-azure-machine-learning-architecture#compute-target) for your AutoML run. In this tutorial, you create `AmlCompute` as your training compute resource.\n",
    "\n",
    "**Creation of AmlCompute takes approximately 5 minutes.** If the AmlCompute with that name is already in your workspace this code will skip the creation process.\n",
    "\n",
    "As with other Azure services, there are limits on certain resources (e.g. AmlCompute) associated with the Azure Machine Learning service. Please read [this article](https://docs.microsoft.com/en-us/azure/machine-learning/service/how-to-manage-quotas) on the default limits and how to request more quota.\n"
   ]
  },
  {
   "cell_type": "code",
   "execution_count": 45,
   "metadata": {},
   "outputs": [
    {
     "name": "stdout",
     "output_type": "stream",
     "text": [
      "Found existing compute target.\n"
     ]
    }
   ],
   "source": [
    "from azureml.core.compute import AmlCompute\n",
    "from azureml.core.compute import ComputeTarget\n",
    "\n",
    "# Choose a name for your cluster.\n",
    "amlcompute_cluster_name = \"MyMLCompute\"\n",
    "\n",
    "found = False\n",
    "# Check if this compute target already exists in the workspace.\n",
    "cts = ws.compute_targets\n",
    "if amlcompute_cluster_name in cts and cts[amlcompute_cluster_name].type == 'AmlCompute':\n",
    "    found = True\n",
    "    print('Found existing compute target.')\n",
    "    compute_target = cts[amlcompute_cluster_name]\n",
    "    \n",
    "if not found:\n",
    "    print('Creating a new compute target...')\n",
    "    provisioning_config = AmlCompute.provisioning_configuration(vm_size = \"STANDARD_D2_V2\", # for GPU, use \"STANDARD_NC6\"\n",
    "                                                                #vm_priority = 'lowpriority', # optional\n",
    "                                                                max_nodes = 6)\n",
    "\n",
    "    # Create the cluster.\n",
    "    compute_target = ComputeTarget.create(ws, amlcompute_cluster_name, provisioning_config)\n",
    "    \n",
    "    # Can poll for a minimum number of nodes and for a specific timeout.\n",
    "    # If no min_node_count is provided, it will use the scale settings for the cluster.\n",
    "    compute_target.wait_for_completion(show_output = True, min_node_count = None, timeout_in_minutes = 20)\n",
    "    \n",
    "     # For a more detailed view of current AmlCompute status, use the 'status' property."
   ]
  },
  {
   "cell_type": "code",
   "execution_count": 46,
   "metadata": {},
   "outputs": [],
   "source": [
    "from azureml.core.runconfig import RunConfiguration\n",
    "from azureml.core.conda_dependencies import CondaDependencies\n",
    "\n",
    "# create a new RunConfig object\n",
    "conda_run_config = RunConfiguration(framework=\"python\")\n",
    "\n",
    "# Set compute target to AmlCompute\n",
    "conda_run_config.target = compute_target\n",
    "conda_run_config.environment.docker.enabled = True\n",
    "conda_run_config.environment.docker.base_image = azureml.core.runconfig.DEFAULT_CPU_IMAGE\n",
    "\n",
    "cd = CondaDependencies.create(pip_packages=['azureml-sdk[automl]'], conda_packages=['numpy'])\n",
    "conda_run_config.environment.python.conda_dependencies = cd"
   ]
  },
  {
   "cell_type": "markdown",
   "metadata": {},
   "source": [
    "## 9.2 Configure AutoMLConfig for AML Compute. \n",
    "The differences from the local config are - set compute_target as the BatchAI cluster, pass the get_data.py script.\n",
    "Notice that you can set concurrent_iterations which will run iterations in parallel (one iteration per node)"
   ]
  },
  {
   "cell_type": "code",
   "execution_count": 52,
   "metadata": {},
   "outputs": [],
   "source": [
    "#AML Compute AutoML Settings\n",
    "\n",
    "automl_config_batch = AutoMLConfig(task = 'regression',\n",
    "                             debug_log = 'automl_errors.log',\n",
    "                             primary_metric = 'normalized_root_mean_squared_error',\n",
    "                             iterations = 200,\n",
    "                             max_concurrent_iterations = 5,\n",
    "                             verbosity = logging.INFO,\n",
    "                             preprocess = True,\n",
    "                             path = project_folder,\n",
    "                             compute_target=compute_target,\n",
    "                             data_script = project_folder + \"/get_data.py\"\n",
    "                            )"
   ]
  },
  {
   "cell_type": "markdown",
   "metadata": {},
   "source": [
    "## 9.3 Training the Model on AML Compute\n",
    "\n",
    "You can call the submit method on the experiment object. For AML compute runs the execution is asynchronous. Initial run could take about 20 minutes as the docker image is being created and setup on the batch cluster node. Depending on the data and number of iterations this can run for while."
   ]
  },
  {
   "cell_type": "code",
   "execution_count": 53,
   "metadata": {},
   "outputs": [],
   "source": [
    "remote_run = experiment.submit(automl_config_batch, show_output = False)"
   ]
  },
  {
   "cell_type": "markdown",
   "metadata": {},
   "source": [
    "## Explore the Results\n",
    "\n",
    "#### Loading executed runs\n",
    "In case you need to load a previously executed run, enable the cell below and replace the `run_id` value."
   ]
  },
  {
   "cell_type": "code",
   "execution_count": 20,
   "metadata": {},
   "outputs": [],
   "source": [
    "remote_run = AutoMLRun(experiment = experiment, run_id = 'AutoML_da0c3ce5-269c-4c83-93b9-1dd34cb59125')"
   ]
  },
  {
   "cell_type": "markdown",
   "metadata": {},
   "source": [
    "#### Widget for Monitoring Runs\n",
    "\n",
    "The widget will first report a \"loading\" status while running the first iteration. After completing the first iteration, an auto-updating graph and table will be shown. The widget will refresh once per minute, so you should see the graph update as child runs complete.\n",
    "\n",
    "You can click on a pipeline to see run properties and output logs.  Logs are also available on the DSVM under `/tmp/azureml_run/{iterationid}/azureml-logs`\n",
    "\n",
    "**Note:** The widget displays a link at the bottom. Use this link to open a web interface to explore the individual run details."
   ]
  },
  {
   "cell_type": "code",
   "execution_count": 21,
   "metadata": {},
   "outputs": [
    {
     "data": {
      "text/html": [
       "<table style=\"width:100%\"><tr><th>Experiment</th><th>Id</th><th>Type</th><th>Status</th><th>Details Page</th><th>Docs Page</th></tr><tr><td>AutoML_GlobalAI</td><td>AutoML_da0c3ce5-269c-4c83-93b9-1dd34cb59125</td><td>automl</td><td>Completed</td><td><a href=\"https://mlworkspace.azure.ai/portal/subscriptions/1bf784f2-dfbf-465a-83e8-2058cdfe5e3b/resourceGroups/AutoMLTutorial/providers/Microsoft.MachineLearningServices/workspaces/EnergyDemandForecasting/experiments/AutoML_GlobalAI/runs/AutoML_da0c3ce5-269c-4c83-93b9-1dd34cb59125\" target=\"_blank\" rel=\"noopener\">Link to Azure Portal</a></td><td><a href=\"https://docs.microsoft.com/en-us/python/api/overview/azure/ml/intro?view=azure-ml-py\" target=\"_blank\" rel=\"noopener\">Link to Documentation</a></td></tr></table>"
      ],
      "text/plain": [
       "Run(Experiment: AutoML_GlobalAI,\n",
       "Id: AutoML_da0c3ce5-269c-4c83-93b9-1dd34cb59125,\n",
       "Type: automl,\n",
       "Status: Completed)"
      ]
     },
     "execution_count": 21,
     "metadata": {},
     "output_type": "execute_result"
    }
   ],
   "source": [
    "remote_run"
   ]
  },
  {
   "cell_type": "code",
   "execution_count": 23,
   "metadata": {},
   "outputs": [
    {
     "data": {
      "application/vnd.jupyter.widget-view+json": {
       "model_id": "7bd83d36be154790bdd9424d6cf8534e",
       "version_major": 2,
       "version_minor": 0
      },
      "text/plain": [
       "_AutoMLWidget(widget_settings={'childWidgetDisplay': 'popup', 'send_telemetry': False, 'log_level': 'NOTSET', …"
      ]
     },
     "metadata": {},
     "output_type": "display_data"
    }
   ],
   "source": [
    "from azureml.widgets import RunDetails\n",
    "RunDetails(remote_run).show() "
   ]
  },
  {
   "cell_type": "code",
   "execution_count": 24,
   "metadata": {},
   "outputs": [
    {
     "name": "stdout",
     "output_type": "stream",
     "text": [
      "\n",
      "*******************************************************************************************\n",
      "ITERATION: The iteration being evaluated.\n",
      "PIPELINE: A summary description of the pipeline being evaluated.\n",
      "DURATION: Time taken for the current iteration.\n",
      "METRIC: The result of computing score on the fitted pipeline.\n",
      "BEST: The best observed score thus far.\n",
      "*******************************************************************************************\n",
      "\n",
      " ITERATION   PIPELINE                                       DURATION      METRIC      BEST\n",
      "         0   StandardScalerWrapper LightGBM                 0:00:49       0.0307    0.0307\n",
      "         1   MinMaxScaler ExtremeRandomTrees                0:08:48       0.0767    0.0307\n",
      "         2   StandardScalerWrapper LightGBM                 0:06:29       0.0483    0.0307\n",
      "         3   RobustScaler RandomForest                      0:06:20       0.0579    0.0307\n",
      "         4   MinMaxScaler ExtremeRandomTrees                0:06:13       0.0853    0.0307\n",
      "         5   StandardScalerWrapper DecisionTree             0:05:50       0.0574    0.0307\n",
      "         6   StandardScalerWrapper ElasticNet               0:00:35       0.1071    0.0307\n",
      "         7   MaxAbsScaler LightGBM                          0:00:32       0.0302    0.0302\n",
      "         8   RobustScaler RandomForest                      0:00:38       0.0386    0.0302\n",
      "         9   StandardScalerWrapper RandomForest             0:00:46       0.0513    0.0302\n",
      "        10   StandardScalerWrapper RandomForest             0:00:34       0.0598    0.0302\n",
      "        11   StandardScalerWrapper LightGBM                 0:00:33       0.0380    0.0302\n",
      "        12   MinMaxScaler ExtremeRandomTrees                0:00:34       0.1026    0.0302\n",
      "        13   StandardScalerWrapper ExtremeRandomTrees       0:00:35       0.0848    0.0302\n",
      "        14   SparseNormalizer ExtremeRandomTrees            0:00:34       0.0932    0.0302\n",
      "        15   StandardScalerWrapper GradientBoosting         0:00:33       0.0264    0.0264\n",
      "        16   StandardScalerWrapper DecisionTree             0:00:34       0.0458    0.0264\n",
      "        17   MaxAbsScaler RandomForest                      0:00:44       0.0675    0.0264\n",
      "        18   StandardScalerWrapper RandomForest             0:00:29       0.0634    0.0264\n",
      "        19   MaxAbsScaler RandomForest                      0:00:29       0.0495    0.0264\n",
      "        20   MinMaxScaler RandomForest                      0:00:34       0.0402    0.0264\n",
      "        21   StandardScalerWrapper DecisionTree             0:00:54       0.0495    0.0264\n",
      "        22   MinMaxScaler ExtremeRandomTrees                0:00:29       0.0948    0.0264\n",
      "        23   MaxAbsScaler RandomForest                      0:00:44       0.0584    0.0264\n",
      "        24   StandardScalerWrapper DecisionTree             0:00:34       0.0559    0.0264\n",
      "        25   StandardScalerWrapper RandomForest             0:00:39       0.0513    0.0264\n",
      "        26   StandardScalerWrapper ExtremeRandomTrees       0:00:37       0.0830    0.0264\n",
      "        27   StandardScalerWrapper DecisionTree             0:00:28       0.0543    0.0264\n",
      "        28   StandardScalerWrapper RandomForest             0:00:34       0.0660    0.0264\n",
      "        29   MaxAbsScaler RandomForest                      0:00:28       0.0383    0.0264\n",
      "        30   StandardScalerWrapper RandomForest             0:02:04       0.0541    0.0264\n",
      "        31   StandardScalerWrapper GradientBoosting         0:00:35       0.0491    0.0264\n",
      "        32   StandardScalerWrapper RandomForest             0:08:55       0.0453    0.0264\n",
      "        33   MinMaxScaler GradientBoosting                  0:00:53       0.0458    0.0264\n",
      "        34   MinMaxScaler DecisionTree                      0:00:36       0.0431    0.0264\n",
      "        35   RobustScaler RandomForest                      0:00:45       0.0624    0.0264\n",
      "        36   RobustScaler LightGBM                          0:00:34       0.0305    0.0264\n",
      "        37   SparseNormalizer RandomForest                  0:00:44       0.0571    0.0264\n",
      "        38   MaxAbsScaler ExtremeRandomTrees                0:00:34       0.0857    0.0264\n",
      "        39   RobustScaler ExtremeRandomTrees                0:00:34       0.0831    0.0264\n",
      "        40   StandardScalerWrapper RandomForest             0:00:29       0.0474    0.0264\n",
      "        41   StandardScalerWrapper GradientBoosting         0:00:48       0.0409    0.0264\n",
      "        42   StandardScalerWrapper LightGBM                 0:00:30       0.0302    0.0264\n",
      "        43   MinMaxScaler RandomForest                      0:00:33       0.0513    0.0264\n",
      "        44   StandardScalerWrapper ExtremeRandomTrees       0:00:39       0.0684    0.0264\n",
      "        45   MaxAbsScaler GradientBoosting                  0:00:34       0.0993    0.0264\n",
      "        46   StandardScalerWrapper DecisionTree             0:00:33       0.0531    0.0264\n",
      "        47   MinMaxScaler LightGBM                          0:00:34       0.0442    0.0264\n",
      "        48   SparseNormalizer LightGBM                      0:00:34       0.0372    0.0264\n",
      "        49   SparseNormalizer GradientBoosting              0:00:33       0.0322    0.0264\n",
      "        50   MinMaxScaler RandomForest                      0:00:49       0.0318    0.0264\n",
      "        51   MinMaxScaler ExtremeRandomTrees                0:00:35       0.0807    0.0264\n",
      "        52   RobustScaler RandomForest                      0:06:50       0.0408    0.0264\n",
      "        53   SparseNormalizer LightGBM                      0:00:41       0.0336    0.0264\n",
      "        54   StandardScalerWrapper GradientBoosting         0:00:33       0.0492    0.0264\n",
      "        55   StandardScalerWrapper LightGBM                 0:00:39       0.0420    0.0264\n",
      "        56   MinMaxScaler LightGBM                          0:00:36       0.0442    0.0264\n",
      "        57   StandardScalerWrapper RandomForest             0:00:39       0.0457    0.0264\n",
      "        58   StandardScalerWrapper ExtremeRandomTrees       0:00:36       0.0450    0.0264\n",
      "        59   StandardScalerWrapper LightGBM                 0:00:38       0.0419    0.0264\n",
      "        60   MinMaxScaler ExtremeRandomTrees                0:00:44       0.0303    0.0264\n",
      "        61   MaxAbsScaler ExtremeRandomTrees                0:04:43       0.0799    0.0264\n",
      "        62   StandardScalerWrapper LightGBM                 0:00:44       0.0340    0.0264\n",
      "        63   MaxAbsScaler ExtremeRandomTrees                0:00:39       0.0321    0.0264\n",
      "        64   RobustScaler RandomForest                      0:00:39       0.0907    0.0264\n",
      "        65   StandardScalerWrapper LightGBM                 0:00:44       0.0518    0.0264\n",
      "        66   SparseNormalizer GradientBoosting              0:00:40       0.0441    0.0264\n",
      "        67   StandardScalerWrapper ExtremeRandomTrees       0:00:34       0.0402    0.0264\n",
      "        68   StandardScalerWrapper LightGBM                 0:01:24       0.0383    0.0264\n",
      "        69   MinMaxScaler ExtremeRandomTrees                0:00:34       0.0711    0.0264\n",
      "        70   MaxAbsScaler ExtremeRandomTrees                0:00:39       0.0535    0.0264\n",
      "        71   StandardScalerWrapper RandomForest             0:00:35       0.0587    0.0264\n",
      "        72   StandardScalerWrapper GradientBoosting         0:00:44       0.0485    0.0264\n",
      "        73   StandardScalerWrapper RandomForest             0:00:44       0.0409    0.0264\n",
      "        74   StandardScalerWrapper GradientBoosting         0:00:45       0.0335    0.0264\n",
      "        75   SparseNormalizer LightGBM                      0:00:39       0.0391    0.0264\n",
      "        76   MinMaxScaler GradientBoosting                  0:00:34       0.0518    0.0264\n",
      "        77   SparseNormalizer RandomForest                  0:00:30       0.0403    0.0264\n",
      "        78   SparseNormalizer RandomForest                  0:00:33       0.0438    0.0264\n",
      "        79   StandardScalerWrapper ExtremeRandomTrees       0:01:18       0.0676    0.0264\n",
      "        80   MinMaxScaler RandomForest                      0:00:29       0.0580    0.0264\n",
      "        81   MaxAbsScaler LightGBM                          0:00:29       0.0473    0.0264\n",
      "        82   StandardScalerWrapper ExtremeRandomTrees       0:00:39       0.0564    0.0264\n",
      "        83   MaxAbsScaler LightGBM                          0:00:34       0.0440    0.0264\n"
     ]
    },
    {
     "name": "stdout",
     "output_type": "stream",
     "text": [
      "        84   StandardScalerWrapper RandomForest             0:00:29       0.0385    0.0264\n",
      "        85   StandardScalerWrapper LightGBM                 0:00:39       0.0319    0.0264\n",
      "        86   StandardScalerWrapper RandomForest             0:01:00       0.0350    0.0264\n",
      "        87   RobustScaler LightGBM                          0:00:28       0.0314    0.0264\n",
      "        88   StandardScalerWrapper LightGBM                 0:00:34       0.0604    0.0264\n",
      "        89   MaxAbsScaler RandomForest                      0:00:43       0.0512    0.0264\n",
      "        90   SparseNormalizer ExtremeRandomTrees            0:00:35       0.0378    0.0264\n",
      "        91   SparseNormalizer RandomForest                  0:00:39       0.0530    0.0264\n",
      "        92   RobustScaler RandomForest                      0:00:33       0.0453    0.0264\n",
      "        93   StandardScalerWrapper ExtremeRandomTrees       0:00:34       0.0587    0.0264\n",
      "        94   MaxAbsScaler GradientBoosting                  0:00:33       0.0349    0.0264\n",
      "        95   SparseNormalizer LightGBM                      0:00:33       0.0347    0.0264\n",
      "        96   MaxAbsScaler RandomForest                      0:00:34       0.0435    0.0264\n",
      "        97   RobustScaler ExtremeRandomTrees                0:06:54       0.0969    0.0264\n",
      "        98   StandardScalerWrapper RandomForest             0:04:49       0.0409    0.0264\n",
      "        99    Ensemble                                      0:05:20       0.0248    0.0248\n",
      "\n",
      "Execution Summary\n",
      "=================\n",
      "RunId: AutoML_da0c3ce5-269c-4c83-93b9-1dd34cb59125\n",
      "\n"
     ]
    },
    {
     "data": {
      "text/plain": [
       "{'runId': 'AutoML_da0c3ce5-269c-4c83-93b9-1dd34cb59125',\n",
       " 'target': 'MyMLCompute',\n",
       " 'status': 'Completed',\n",
       " 'startTimeUtc': '2018-12-15T18:43:56.649347Z',\n",
       " 'endTimeUtc': '2018-12-15T19:17:28.400005Z',\n",
       " 'properties': {'num_iterations': '100',\n",
       "  'training_type': 'TrainFull',\n",
       "  'acquisition_function': 'EI',\n",
       "  'primary_metric': 'normalized_root_mean_squared_error',\n",
       "  'train_split': '0',\n",
       "  'max_time_seconds': '0',\n",
       "  'acquisition_parameter': '0',\n",
       "  'num_cross_validation': None,\n",
       "  'target': 'MyMLCompute',\n",
       "  'RawAMLSettingsString': \"{'name': 'AutoML_GlobalAI', 'path': './sample_projects/automl-energydemandforecasting', 'subscription_id': '1bf784f2-dfbf-465a-83e8-2058cdfe5e3b', 'resource_group': 'AutoMLTutorial', 'workspace_name': 'EnergyDemandForecasting', 'iterations': 100, 'primary_metric': 'normalized_root_mean_squared_error', 'data_script': './sample_projects/automl-energydemandforecasting/get_data.py', 'compute_target': 'MyMLCompute', 'task_type': 'regression', 'validation_size': 0.0, 'n_cross_validations': None, 'y_min': None, 'y_max': None, 'num_classes': None, 'preprocess': True, 'lag_length': 0, 'is_timeseries': False, 'max_cores_per_iteration': 1, 'max_concurrent_iterations': 5, 'iteration_timeout_minutes': None, 'mem_in_mb': None, 'enforce_time_on_windows': False, 'experiment_timeout_minutes': None, 'experiment_exit_score': None, 'whitelist_models': None, 'blacklist_algos': ['KNeighborsClassifier', 'KNeighborsRegressor', 'SVCWrapper', 'kNN', 'kNN regressor', 'SVM'], 'auto_blacklist': True, 'blacklist_samples_reached': True, 'exclude_nan_labels': True, 'verbosity': 20, 'debug_log': 'automl_errors.log', 'show_warnings': False, 'model_explainability': False, 'service_url': None, 'sdk_url': None, 'sdk_packages': None, 'telemetry_verbosity': 'NOTSET', 'send_telemetry': False, 'spark_service': None, 'metrics': None, 'enable_ensembling': True, 'ensemble_iterations': 15, 'enable_tf': True, 'enable_cache': True, 'enable_subsampling': False, 'subsample_seed': None, 'cost_mode': 0, 'metric_operation': 'minimize'}\",\n",
       "  'AMLSettingsJsonString': '{\"name\": \"AutoML_GlobalAI\", \"path\": \"./sample_projects/automl-energydemandforecasting\", \"subscription_id\": \"1bf784f2-dfbf-465a-83e8-2058cdfe5e3b\", \"resource_group\": \"AutoMLTutorial\", \"workspace_name\": \"EnergyDemandForecasting\", \"iterations\": 100, \"primary_metric\": \"normalized_root_mean_squared_error\", \"data_script\": \"./sample_projects/automl-energydemandforecasting/get_data.py\", \"compute_target\": \"MyMLCompute\", \"task_type\": \"regression\", \"validation_size\": 0.0, \"n_cross_validations\": null, \"y_min\": null, \"y_max\": null, \"num_classes\": null, \"preprocess\": true, \"lag_length\": 0, \"is_timeseries\": false, \"max_cores_per_iteration\": 1, \"max_concurrent_iterations\": 5, \"iteration_timeout_minutes\": null, \"mem_in_mb\": null, \"enforce_time_on_windows\": false, \"experiment_timeout_minutes\": null, \"experiment_exit_score\": null, \"whitelist_models\": null, \"blacklist_algos\": [\"KNeighborsClassifier\", \"KNeighborsRegressor\", \"SVCWrapper\", \"kNN\", \"kNN regressor\", \"SVM\"], \"auto_blacklist\": true, \"blacklist_samples_reached\": true, \"exclude_nan_labels\": true, \"verbosity\": 20, \"debug_log\": \"automl_errors.log\", \"show_warnings\": false, \"model_explainability\": false, \"service_url\": null, \"sdk_url\": null, \"sdk_packages\": null, \"telemetry_verbosity\": \"NOTSET\", \"send_telemetry\": false, \"spark_service\": null, \"metrics\": null, \"enable_ensembling\": true, \"ensemble_iterations\": 15, \"enable_tf\": true, \"enable_cache\": true, \"enable_subsampling\": false, \"subsample_seed\": null, \"cost_mode\": 0, \"metric_operation\": \"minimize\"}',\n",
       "  'DataPrepJsonString': None,\n",
       "  'EnableSubsampling': 'False',\n",
       "  'runTemplate': 'AutoML',\n",
       "  'azureml.runsource': 'automl',\n",
       "  'SetupRunId': 'AutoML_da0c3ce5-269c-4c83-93b9-1dd34cb59125_setup',\n",
       "  'ContentSnapshotId': 'e7a5bcf8-8ce9-4b9e-bbf5-88fce6a462d4',\n",
       "  'snapshotId': 'e7a5bcf8-8ce9-4b9e-bbf5-88fce6a462d4',\n",
       "  'ProblemInfoJsonString': '{\"dataset_num_categorical\": 0, \"dataset_classes\": 28261, \"dataset_features\": 12, \"dataset_samples\": 35487, \"is_sparse\": false, \"subsampling\": false}'},\n",
       " 'logFiles': {}}"
      ]
     },
     "execution_count": 24,
     "metadata": {},
     "output_type": "execute_result"
    }
   ],
   "source": [
    "# Wait until the run finishes.\n",
    "remote_run.wait_for_completion(show_output = True)"
   ]
  },
  {
   "cell_type": "code",
   "execution_count": null,
   "metadata": {},
   "outputs": [],
   "source": []
  },
  {
   "cell_type": "markdown",
   "metadata": {},
   "source": [
    "# Section 10 - Exploring the Remote Execution results and models"
   ]
  },
  {
   "cell_type": "markdown",
   "metadata": {},
   "source": [
    "\n",
    "## 10.1 Retrieve All Remote Child Runs\n",
    "You can also use sdk methods to fetch all the child runs and see individual metrics that we log for each of the models."
   ]
  },
  {
   "cell_type": "code",
   "execution_count": 25,
   "metadata": {
    "scrolled": true
   },
   "outputs": [
    {
     "data": {
      "text/html": [
       "<div>\n",
       "<style scoped>\n",
       "    .dataframe tbody tr th:only-of-type {\n",
       "        vertical-align: middle;\n",
       "    }\n",
       "\n",
       "    .dataframe tbody tr th {\n",
       "        vertical-align: top;\n",
       "    }\n",
       "\n",
       "    .dataframe thead th {\n",
       "        text-align: right;\n",
       "    }\n",
       "</style>\n",
       "<table border=\"1\" class=\"dataframe\">\n",
       "  <thead>\n",
       "    <tr style=\"text-align: right;\">\n",
       "      <th></th>\n",
       "      <th>0</th>\n",
       "      <th>1</th>\n",
       "      <th>2</th>\n",
       "      <th>3</th>\n",
       "      <th>4</th>\n",
       "      <th>5</th>\n",
       "      <th>6</th>\n",
       "      <th>7</th>\n",
       "      <th>8</th>\n",
       "      <th>9</th>\n",
       "      <th>...</th>\n",
       "      <th>90</th>\n",
       "      <th>91</th>\n",
       "      <th>92</th>\n",
       "      <th>93</th>\n",
       "      <th>94</th>\n",
       "      <th>95</th>\n",
       "      <th>96</th>\n",
       "      <th>97</th>\n",
       "      <th>98</th>\n",
       "      <th>99</th>\n",
       "    </tr>\n",
       "  </thead>\n",
       "  <tbody>\n",
       "    <tr>\n",
       "      <th>explained_variance</th>\n",
       "      <td>0.940019</td>\n",
       "      <td>0.600861</td>\n",
       "      <td>0.828698</td>\n",
       "      <td>0.785629</td>\n",
       "      <td>0.515696</td>\n",
       "      <td>0.779345</td>\n",
       "      <td>0.332659</td>\n",
       "      <td>0.940267</td>\n",
       "      <td>0.910406</td>\n",
       "      <td>0.836996</td>\n",
       "      <td>...</td>\n",
       "      <td>0.913155</td>\n",
       "      <td>0.840029</td>\n",
       "      <td>0.871444</td>\n",
       "      <td>0.765469</td>\n",
       "      <td>0.910420</td>\n",
       "      <td>0.923696</td>\n",
       "      <td>0.884308</td>\n",
       "      <td>0.354816</td>\n",
       "      <td>0.899556</td>\n",
       "      <td>0.956131</td>\n",
       "    </tr>\n",
       "    <tr>\n",
       "      <th>mean_absolute_error</th>\n",
       "      <td>198.563688</td>\n",
       "      <td>529.311545</td>\n",
       "      <td>310.487459</td>\n",
       "      <td>375.877057</td>\n",
       "      <td>601.499129</td>\n",
       "      <td>368.440656</td>\n",
       "      <td>761.664205</td>\n",
       "      <td>198.758201</td>\n",
       "      <td>266.724324</td>\n",
       "      <td>355.793610</td>\n",
       "      <td>...</td>\n",
       "      <td>265.766971</td>\n",
       "      <td>358.860266</td>\n",
       "      <td>308.256459</td>\n",
       "      <td>411.410464</td>\n",
       "      <td>227.365440</td>\n",
       "      <td>221.078313</td>\n",
       "      <td>300.535677</td>\n",
       "      <td>670.093856</td>\n",
       "      <td>279.796885</td>\n",
       "      <td>153.865730</td>\n",
       "    </tr>\n",
       "    <tr>\n",
       "      <th>median_absolute_error</th>\n",
       "      <td>153.607182</td>\n",
       "      <td>451.203551</td>\n",
       "      <td>229.358836</td>\n",
       "      <td>301.814584</td>\n",
       "      <td>547.044006</td>\n",
       "      <td>283.292020</td>\n",
       "      <td>705.434610</td>\n",
       "      <td>162.471848</td>\n",
       "      <td>230.560705</td>\n",
       "      <td>307.564050</td>\n",
       "      <td>...</td>\n",
       "      <td>233.848625</td>\n",
       "      <td>292.428065</td>\n",
       "      <td>257.169002</td>\n",
       "      <td>367.673056</td>\n",
       "      <td>176.889849</td>\n",
       "      <td>162.361897</td>\n",
       "      <td>258.953311</td>\n",
       "      <td>573.025130</td>\n",
       "      <td>235.975025</td>\n",
       "      <td>111.838645</td>\n",
       "    </tr>\n",
       "    <tr>\n",
       "      <th>normalized_mean_absolute_error</th>\n",
       "      <td>0.023098</td>\n",
       "      <td>0.061574</td>\n",
       "      <td>0.036118</td>\n",
       "      <td>0.043725</td>\n",
       "      <td>0.069971</td>\n",
       "      <td>0.042860</td>\n",
       "      <td>0.088603</td>\n",
       "      <td>0.023121</td>\n",
       "      <td>0.031027</td>\n",
       "      <td>0.041389</td>\n",
       "      <td>...</td>\n",
       "      <td>0.030916</td>\n",
       "      <td>0.041745</td>\n",
       "      <td>0.035859</td>\n",
       "      <td>0.047858</td>\n",
       "      <td>0.026449</td>\n",
       "      <td>0.025718</td>\n",
       "      <td>0.034961</td>\n",
       "      <td>0.077951</td>\n",
       "      <td>0.032548</td>\n",
       "      <td>0.017899</td>\n",
       "    </tr>\n",
       "    <tr>\n",
       "      <th>normalized_median_absolute_error</th>\n",
       "      <td>0.017869</td>\n",
       "      <td>0.052488</td>\n",
       "      <td>0.026681</td>\n",
       "      <td>0.035109</td>\n",
       "      <td>0.063636</td>\n",
       "      <td>0.032955</td>\n",
       "      <td>0.082062</td>\n",
       "      <td>0.018900</td>\n",
       "      <td>0.026821</td>\n",
       "      <td>0.035778</td>\n",
       "      <td>...</td>\n",
       "      <td>0.027203</td>\n",
       "      <td>0.034018</td>\n",
       "      <td>0.029916</td>\n",
       "      <td>0.042771</td>\n",
       "      <td>0.020577</td>\n",
       "      <td>0.018887</td>\n",
       "      <td>0.030123</td>\n",
       "      <td>0.066659</td>\n",
       "      <td>0.027450</td>\n",
       "      <td>0.013010</td>\n",
       "    </tr>\n",
       "    <tr>\n",
       "      <th>normalized_root_mean_squared_error</th>\n",
       "      <td>0.030686</td>\n",
       "      <td>0.076654</td>\n",
       "      <td>0.048266</td>\n",
       "      <td>0.057879</td>\n",
       "      <td>0.085332</td>\n",
       "      <td>0.057379</td>\n",
       "      <td>0.107054</td>\n",
       "      <td>0.030185</td>\n",
       "      <td>0.038613</td>\n",
       "      <td>0.051282</td>\n",
       "      <td>...</td>\n",
       "      <td>0.037790</td>\n",
       "      <td>0.052968</td>\n",
       "      <td>0.045260</td>\n",
       "      <td>0.058693</td>\n",
       "      <td>0.034906</td>\n",
       "      <td>0.034698</td>\n",
       "      <td>0.043462</td>\n",
       "      <td>0.096879</td>\n",
       "      <td>0.040863</td>\n",
       "      <td>0.024819</td>\n",
       "    </tr>\n",
       "    <tr>\n",
       "      <th>normalized_root_mean_squared_error_min</th>\n",
       "      <td>0.000000</td>\n",
       "      <td>0.000000</td>\n",
       "      <td>0.000000</td>\n",
       "      <td>0.000000</td>\n",
       "      <td>0.000000</td>\n",
       "      <td>0.030686</td>\n",
       "      <td>0.030686</td>\n",
       "      <td>0.030185</td>\n",
       "      <td>0.030686</td>\n",
       "      <td>0.030686</td>\n",
       "      <td>...</td>\n",
       "      <td>0.026428</td>\n",
       "      <td>0.026428</td>\n",
       "      <td>0.026428</td>\n",
       "      <td>0.026428</td>\n",
       "      <td>0.026428</td>\n",
       "      <td>0.026428</td>\n",
       "      <td>0.026428</td>\n",
       "      <td>0.026428</td>\n",
       "      <td>0.026428</td>\n",
       "      <td>0.024819</td>\n",
       "    </tr>\n",
       "    <tr>\n",
       "      <th>normalized_root_mean_squared_log_error</th>\n",
       "      <td>0.030823</td>\n",
       "      <td>0.087784</td>\n",
       "      <td>0.051558</td>\n",
       "      <td>0.058763</td>\n",
       "      <td>0.096766</td>\n",
       "      <td>0.059476</td>\n",
       "      <td>0.117929</td>\n",
       "      <td>0.031151</td>\n",
       "      <td>0.042942</td>\n",
       "      <td>0.060004</td>\n",
       "      <td>...</td>\n",
       "      <td>0.042944</td>\n",
       "      <td>0.057823</td>\n",
       "      <td>0.051293</td>\n",
       "      <td>0.068141</td>\n",
       "      <td>0.038721</td>\n",
       "      <td>0.035353</td>\n",
       "      <td>0.049772</td>\n",
       "      <td>0.109342</td>\n",
       "      <td>0.044319</td>\n",
       "      <td>0.024953</td>\n",
       "    </tr>\n",
       "    <tr>\n",
       "      <th>r2_score</th>\n",
       "      <td>0.930721</td>\n",
       "      <td>0.567686</td>\n",
       "      <td>0.828600</td>\n",
       "      <td>0.753526</td>\n",
       "      <td>0.464265</td>\n",
       "      <td>0.757766</td>\n",
       "      <td>0.156808</td>\n",
       "      <td>0.932963</td>\n",
       "      <td>0.890302</td>\n",
       "      <td>0.806512</td>\n",
       "      <td>...</td>\n",
       "      <td>0.894928</td>\n",
       "      <td>0.793578</td>\n",
       "      <td>0.849285</td>\n",
       "      <td>0.746545</td>\n",
       "      <td>0.910353</td>\n",
       "      <td>0.911422</td>\n",
       "      <td>0.861020</td>\n",
       "      <td>0.309469</td>\n",
       "      <td>0.877149</td>\n",
       "      <td>0.954681</td>\n",
       "    </tr>\n",
       "    <tr>\n",
       "      <th>root_mean_squared_error</th>\n",
       "      <td>263.787737</td>\n",
       "      <td>658.952385</td>\n",
       "      <td>414.915403</td>\n",
       "      <td>497.554228</td>\n",
       "      <td>733.549584</td>\n",
       "      <td>493.255696</td>\n",
       "      <td>920.274970</td>\n",
       "      <td>259.485075</td>\n",
       "      <td>331.934914</td>\n",
       "      <td>440.840063</td>\n",
       "      <td>...</td>\n",
       "      <td>324.861246</td>\n",
       "      <td>455.336333</td>\n",
       "      <td>389.073908</td>\n",
       "      <td>504.551181</td>\n",
       "      <td>300.069815</td>\n",
       "      <td>298.275934</td>\n",
       "      <td>373.619956</td>\n",
       "      <td>832.810154</td>\n",
       "      <td>351.272522</td>\n",
       "      <td>213.351962</td>\n",
       "    </tr>\n",
       "    <tr>\n",
       "      <th>root_mean_squared_log_error</th>\n",
       "      <td>0.042770</td>\n",
       "      <td>0.121806</td>\n",
       "      <td>0.071540</td>\n",
       "      <td>0.081538</td>\n",
       "      <td>0.134269</td>\n",
       "      <td>0.082527</td>\n",
       "      <td>0.163635</td>\n",
       "      <td>0.043224</td>\n",
       "      <td>0.059585</td>\n",
       "      <td>0.083260</td>\n",
       "      <td>...</td>\n",
       "      <td>0.059588</td>\n",
       "      <td>0.080233</td>\n",
       "      <td>0.071173</td>\n",
       "      <td>0.094550</td>\n",
       "      <td>0.053728</td>\n",
       "      <td>0.049055</td>\n",
       "      <td>0.069061</td>\n",
       "      <td>0.151719</td>\n",
       "      <td>0.061496</td>\n",
       "      <td>0.034625</td>\n",
       "    </tr>\n",
       "    <tr>\n",
       "      <th>spearman_correlation</th>\n",
       "      <td>0.974051</td>\n",
       "      <td>0.901634</td>\n",
       "      <td>0.913144</td>\n",
       "      <td>0.906085</td>\n",
       "      <td>0.798250</td>\n",
       "      <td>0.889832</td>\n",
       "      <td>0.597343</td>\n",
       "      <td>0.973076</td>\n",
       "      <td>0.955558</td>\n",
       "      <td>0.941787</td>\n",
       "      <td>...</td>\n",
       "      <td>0.960504</td>\n",
       "      <td>0.919141</td>\n",
       "      <td>0.935483</td>\n",
       "      <td>0.929482</td>\n",
       "      <td>0.959733</td>\n",
       "      <td>0.965109</td>\n",
       "      <td>0.950619</td>\n",
       "      <td>0.860539</td>\n",
       "      <td>0.947191</td>\n",
       "      <td>0.979789</td>\n",
       "    </tr>\n",
       "  </tbody>\n",
       "</table>\n",
       "<p>12 rows × 100 columns</p>\n",
       "</div>"
      ],
      "text/plain": [
       "                                                 0           1           2  \\\n",
       "explained_variance                      0.940019    0.600861    0.828698     \n",
       "mean_absolute_error                     198.563688  529.311545  310.487459   \n",
       "median_absolute_error                   153.607182  451.203551  229.358836   \n",
       "normalized_mean_absolute_error          0.023098    0.061574    0.036118     \n",
       "normalized_median_absolute_error        0.017869    0.052488    0.026681     \n",
       "normalized_root_mean_squared_error      0.030686    0.076654    0.048266     \n",
       "normalized_root_mean_squared_error_min  0.000000    0.000000    0.000000     \n",
       "normalized_root_mean_squared_log_error  0.030823    0.087784    0.051558     \n",
       "r2_score                                0.930721    0.567686    0.828600     \n",
       "root_mean_squared_error                 263.787737  658.952385  414.915403   \n",
       "root_mean_squared_log_error             0.042770    0.121806    0.071540     \n",
       "spearman_correlation                    0.974051    0.901634    0.913144     \n",
       "\n",
       "                                                 3           4           5  \\\n",
       "explained_variance                      0.785629    0.515696    0.779345     \n",
       "mean_absolute_error                     375.877057  601.499129  368.440656   \n",
       "median_absolute_error                   301.814584  547.044006  283.292020   \n",
       "normalized_mean_absolute_error          0.043725    0.069971    0.042860     \n",
       "normalized_median_absolute_error        0.035109    0.063636    0.032955     \n",
       "normalized_root_mean_squared_error      0.057879    0.085332    0.057379     \n",
       "normalized_root_mean_squared_error_min  0.000000    0.000000    0.030686     \n",
       "normalized_root_mean_squared_log_error  0.058763    0.096766    0.059476     \n",
       "r2_score                                0.753526    0.464265    0.757766     \n",
       "root_mean_squared_error                 497.554228  733.549584  493.255696   \n",
       "root_mean_squared_log_error             0.081538    0.134269    0.082527     \n",
       "spearman_correlation                    0.906085    0.798250    0.889832     \n",
       "\n",
       "                                                 6           7           8  \\\n",
       "explained_variance                      0.332659    0.940267    0.910406     \n",
       "mean_absolute_error                     761.664205  198.758201  266.724324   \n",
       "median_absolute_error                   705.434610  162.471848  230.560705   \n",
       "normalized_mean_absolute_error          0.088603    0.023121    0.031027     \n",
       "normalized_median_absolute_error        0.082062    0.018900    0.026821     \n",
       "normalized_root_mean_squared_error      0.107054    0.030185    0.038613     \n",
       "normalized_root_mean_squared_error_min  0.030686    0.030185    0.030686     \n",
       "normalized_root_mean_squared_log_error  0.117929    0.031151    0.042942     \n",
       "r2_score                                0.156808    0.932963    0.890302     \n",
       "root_mean_squared_error                 920.274970  259.485075  331.934914   \n",
       "root_mean_squared_log_error             0.163635    0.043224    0.059585     \n",
       "spearman_correlation                    0.597343    0.973076    0.955558     \n",
       "\n",
       "                                                 9     ...              90  \\\n",
       "explained_variance                      0.836996       ...      0.913155     \n",
       "mean_absolute_error                     355.793610     ...      265.766971   \n",
       "median_absolute_error                   307.564050     ...      233.848625   \n",
       "normalized_mean_absolute_error          0.041389       ...      0.030916     \n",
       "normalized_median_absolute_error        0.035778       ...      0.027203     \n",
       "normalized_root_mean_squared_error      0.051282       ...      0.037790     \n",
       "normalized_root_mean_squared_error_min  0.030686       ...      0.026428     \n",
       "normalized_root_mean_squared_log_error  0.060004       ...      0.042944     \n",
       "r2_score                                0.806512       ...      0.894928     \n",
       "root_mean_squared_error                 440.840063     ...      324.861246   \n",
       "root_mean_squared_log_error             0.083260       ...      0.059588     \n",
       "spearman_correlation                    0.941787       ...      0.960504     \n",
       "\n",
       "                                                91          92          93  \\\n",
       "explained_variance                      0.840029    0.871444    0.765469     \n",
       "mean_absolute_error                     358.860266  308.256459  411.410464   \n",
       "median_absolute_error                   292.428065  257.169002  367.673056   \n",
       "normalized_mean_absolute_error          0.041745    0.035859    0.047858     \n",
       "normalized_median_absolute_error        0.034018    0.029916    0.042771     \n",
       "normalized_root_mean_squared_error      0.052968    0.045260    0.058693     \n",
       "normalized_root_mean_squared_error_min  0.026428    0.026428    0.026428     \n",
       "normalized_root_mean_squared_log_error  0.057823    0.051293    0.068141     \n",
       "r2_score                                0.793578    0.849285    0.746545     \n",
       "root_mean_squared_error                 455.336333  389.073908  504.551181   \n",
       "root_mean_squared_log_error             0.080233    0.071173    0.094550     \n",
       "spearman_correlation                    0.919141    0.935483    0.929482     \n",
       "\n",
       "                                                94          95          96  \\\n",
       "explained_variance                      0.910420    0.923696    0.884308     \n",
       "mean_absolute_error                     227.365440  221.078313  300.535677   \n",
       "median_absolute_error                   176.889849  162.361897  258.953311   \n",
       "normalized_mean_absolute_error          0.026449    0.025718    0.034961     \n",
       "normalized_median_absolute_error        0.020577    0.018887    0.030123     \n",
       "normalized_root_mean_squared_error      0.034906    0.034698    0.043462     \n",
       "normalized_root_mean_squared_error_min  0.026428    0.026428    0.026428     \n",
       "normalized_root_mean_squared_log_error  0.038721    0.035353    0.049772     \n",
       "r2_score                                0.910353    0.911422    0.861020     \n",
       "root_mean_squared_error                 300.069815  298.275934  373.619956   \n",
       "root_mean_squared_log_error             0.053728    0.049055    0.069061     \n",
       "spearman_correlation                    0.959733    0.965109    0.950619     \n",
       "\n",
       "                                                97          98          99  \n",
       "explained_variance                      0.354816    0.899556    0.956131    \n",
       "mean_absolute_error                     670.093856  279.796885  153.865730  \n",
       "median_absolute_error                   573.025130  235.975025  111.838645  \n",
       "normalized_mean_absolute_error          0.077951    0.032548    0.017899    \n",
       "normalized_median_absolute_error        0.066659    0.027450    0.013010    \n",
       "normalized_root_mean_squared_error      0.096879    0.040863    0.024819    \n",
       "normalized_root_mean_squared_error_min  0.026428    0.026428    0.024819    \n",
       "normalized_root_mean_squared_log_error  0.109342    0.044319    0.024953    \n",
       "r2_score                                0.309469    0.877149    0.954681    \n",
       "root_mean_squared_error                 832.810154  351.272522  213.351962  \n",
       "root_mean_squared_log_error             0.151719    0.061496    0.034625    \n",
       "spearman_correlation                    0.860539    0.947191    0.979789    \n",
       "\n",
       "[12 rows x 100 columns]"
      ]
     },
     "execution_count": 25,
     "metadata": {},
     "output_type": "execute_result"
    }
   ],
   "source": [
    "children = list(remote_run.get_children())\n",
    "metricslist = {}\n",
    "for run in children:\n",
    "    properties = run.get_properties()\n",
    "    metrics = {k: v for k, v in run.get_metrics().items() if isinstance(v, float)}    \n",
    "    metricslist[int(properties['iteration'])] = metrics\n",
    "\n",
    "rundata = pd.DataFrame(metricslist).sort_index(1)\n",
    "rundata"
   ]
  },
  {
   "cell_type": "markdown",
   "metadata": {},
   "source": [
    "## 10.2  Retrieve different Models"
   ]
  },
  {
   "cell_type": "markdown",
   "metadata": {},
   "source": [
    "### 10.21 Best Model based on the primary metric\n",
    "Below we select the best pipeline from our iterations. The *get_output* method on experiment run object returns the best run and the fitted model for the last *fit* invocation. There are overloads on *get_output* that allow you to retrieve the best run and fitted model for *any* logged metric or a particular *iteration*."
   ]
  },
  {
   "cell_type": "code",
   "execution_count": 26,
   "metadata": {},
   "outputs": [
    {
     "name": "stdout",
     "output_type": "stream",
     "text": [
      "Run(Experiment: AutoML_GlobalAI,\n",
      "Id: AutoML_da0c3ce5-269c-4c83-93b9-1dd34cb59125_99,\n",
      "Type: azureml.scriptrun,\n",
      "Status: Completed)\n",
      "Pipeline(memory=None,\n",
      "     steps=[('datatransformer', DataTransformer(logger=None, task=None)), ('prefittedsoftvotingregressor', PreFittedSoftVotingRegressor(estimators=[('GradientBoosting', Pipeline(memory=None,\n",
      "     steps=[('standardscalerwrapper', <automl.client.core.common.model_wrappers.StandardScalerWrapper object at 0x...=None,\n",
      "               weights=[0.5333333333333333, 0.2, 0.06666666666666667, 0.06666666666666667]))])\n"
     ]
    }
   ],
   "source": [
    "best_run, fitted_model = remote_run.get_output()\n",
    "print(best_run)\n",
    "print(fitted_model)"
   ]
  },
  {
   "cell_type": "markdown",
   "metadata": {},
   "source": [
    "### 10.22 Best Model based on any other metric\n",
    "Show the run and model that has the smallest `root_mean_squared_error` (which turned out to be the same as the one with largest `spearman_correlation` value):"
   ]
  },
  {
   "cell_type": "code",
   "execution_count": 27,
   "metadata": {},
   "outputs": [
    {
     "name": "stdout",
     "output_type": "stream",
     "text": [
      "Run(Experiment: AutoML_GlobalAI,\n",
      "Id: AutoML_da0c3ce5-269c-4c83-93b9-1dd34cb59125_99,\n",
      "Type: azureml.scriptrun,\n",
      "Status: Completed)\n",
      "Pipeline(memory=None,\n",
      "     steps=[('datatransformer', DataTransformer(logger=None, task=None)), ('prefittedsoftvotingregressor', PreFittedSoftVotingRegressor(estimators=[('GradientBoosting', Pipeline(memory=None,\n",
      "     steps=[('standardscalerwrapper', <automl.client.core.common.model_wrappers.StandardScalerWrapper object at 0x...=None,\n",
      "               weights=[0.5333333333333333, 0.2, 0.06666666666666667, 0.06666666666666667]))])\n"
     ]
    }
   ],
   "source": [
    "lookup_metric = \"root_mean_squared_error\"\n",
    "best_run, fitted_model = remote_run.get_output(metric=lookup_metric)\n",
    "print(best_run)\n",
    "print(fitted_model)"
   ]
  },
  {
   "cell_type": "markdown",
   "metadata": {},
   "source": [
    "### 10.23 Best Model based on any iteration\n",
    "Simply show the run and model from the 2nd iteration from the local run:"
   ]
  },
  {
   "cell_type": "code",
   "execution_count": 28,
   "metadata": {},
   "outputs": [
    {
     "name": "stdout",
     "output_type": "stream",
     "text": [
      "Run(Experiment: AutoML_GlobalAI,\n",
      "Id: AutoML_da0c3ce5-269c-4c83-93b9-1dd34cb59125_1,\n",
      "Type: azureml.scriptrun,\n",
      "Status: Completed)\n",
      "Pipeline(memory=None,\n",
      "     steps=[('datatransformer', DataTransformer(logger=None, task=None)), ('minmaxscaler', MinMaxScaler(copy=True, feature_range=(0, 1))), ('extratreesregressor', ExtraTreesRegressor(bootstrap=True, criterion='mae', max_depth=None,\n",
      "          max_features='log2', max_leaf_nodes=None,\n",
      "          min_impurit...timators=200, n_jobs=1,\n",
      "          oob_score=False, random_state=None, verbose=0, warm_start=False))])\n"
     ]
    }
   ],
   "source": [
    "iteration = 1\n",
    "second_run, second_model = remote_run.get_output(iteration = iteration)\n",
    "print(second_run)\n",
    "print(second_model)"
   ]
  },
  {
   "cell_type": "markdown",
   "metadata": {},
   "source": [
    "# Section 11 - Testing the Model"
   ]
  },
  {
   "cell_type": "markdown",
   "metadata": {},
   "source": [
    "### Testing the Fitted Model"
   ]
  },
  {
   "cell_type": "markdown",
   "metadata": {},
   "source": [
    "Predict on training and test set, and calculate residual values."
   ]
  },
  {
   "cell_type": "code",
   "execution_count": 43,
   "metadata": {},
   "outputs": [],
   "source": [
    "train_na_mean = train.fillna(train.mean())\n",
    "train_na_interpolate = train.interpolate()"
   ]
  },
  {
   "cell_type": "code",
   "execution_count": 47,
   "metadata": {},
   "outputs": [],
   "source": [
    "test_na_mean = test.fillna(train.mean())\n",
    "test_na_interpolate = test.interpolate()"
   ]
  },
  {
   "cell_type": "code",
   "execution_count": 74,
   "metadata": {},
   "outputs": [],
   "source": [
    "my_train = train_na_interpolate\n",
    "my_test = test_na_interpolate"
   ]
  },
  {
   "cell_type": "code",
   "execution_count": 75,
   "metadata": {},
   "outputs": [
    {
     "data": {
      "image/png": "[encoded data removed]",
      "text/plain": [
       "<Figure size 432x288 with 1 Axes>"
      ]
     },
     "metadata": {
      "needs_background": "light"
     },
     "output_type": "display_data"
    }
   ],
   "source": [
    "x_train = my_train.drop(['demand'], axis=1)\n",
    "y_train = my_train['demand']\n",
    "\n",
    "y_pred_train = fitted_model.predict(x_train.values)\n",
    "y_residual_train = y_train - y_pred_train\n",
    "\n",
    "x_test = my_test.drop(['demand'], axis=1)\n",
    "y_test = my_test['demand']\n",
    "y_pred_test = fitted_model.predict(x_test.values)\n",
    "y_residual_test = y_test - y_pred_test\n",
    "\n",
    "plt.plot(x_test['timeStamp'], y_test, label='Actual')\n",
    "plt.plot(x_test['timeStamp'], y_pred_test, label=\"Predicted\")\n",
    "plt.xticks(rotation=90)\n",
    "plt.title('Actual demand vs predicted for test data ')\n",
    "plt.legend()\n",
    "plt.show()"
   ]
  },
  {
   "cell_type": "markdown",
   "metadata": {},
   "source": [
    "# Section 12 -  Register fitted model for deployment"
   ]
  },
  {
   "cell_type": "code",
   "execution_count": 76,
   "metadata": {},
   "outputs": [
    {
     "name": "stdout",
     "output_type": "stream",
     "text": [
      "Registering model AutoMLda0c3ce52best\n",
      "AutoMLda0c3ce52best\n"
     ]
    }
   ],
   "source": [
    "description = 'AutoML Model for Electric Demand'\n",
    "tags = None\n",
    "remote_run.register_model(description = description, tags = tags)\n",
    "print(remote_run.model_id) # Use this id to deploy the model as a web service in Azure"
   ]
  },
  {
   "cell_type": "code",
   "execution_count": null,
   "metadata": {},
   "outputs": [],
   "source": []
  }
 ],
 "metadata": {
  "authors": [
   {
    "name": "savitam"
   }
  ],
  "kernelspec": {
   "display_name": "Python 3.6 - AzureML",
   "language": "python",
   "name": "python3-azureml"
  },
  "language_info": {
   "codemirror_mode": {
    "name": "ipython",
    "version": 3
   },
   "file_extension": ".py",
   "mimetype": "text/x-python",
   "name": "python",
   "nbconvert_exporter": "python",
   "pygments_lexer": "ipython3",
   "version": "3.6.6"
  }
 },
 "nbformat": 4,
 "nbformat_minor": 2
}
